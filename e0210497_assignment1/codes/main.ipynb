{
 "cells": [
  {
   "cell_type": "markdown",
   "metadata": {
    "colab_type": "text",
    "id": "vfRek4u1Mc1q",
    "slideshow": {
     "slide_type": "-"
    }
   },
   "source": [
    "*Changelog*:\n",
    "\n",
    "v1: correct the deadline, which should be 11 Mar. \n",
    "\n",
    "\n",
    "# Introduction\n",
    "\n",
    "\n",
    "**ASSIGNMENT DEADLINE: 11 Mar 2019 (MON) 17:00**\n",
    "\n",
    "In this assignemnt, the task is to implement some basic components for training convolutional neural network over the MNIST dataset. Firstly, you need to implement the adam algorithm in nn/optimizers.py. Secondly, you need to implement the operations in nn/operations.py, which are used by the layers (in nn/layer.py). Finally, you need to tune the model structure and some hyperparameters to improve the accuracy.\n",
    "\n",
    "**Attention**:\n",
    "- *Only python3 is allowed to use in this assignment.*\n",
    "- *`numpy` is utilized for computation.*\n",
    "- *You do not need a GPU to for this assignment. CPU is enough.*\n",
    "- *To run this Jupyter notebook, you need to install the depedent libraries as stated in [README.MD](README.MD).*\n",
    "- *Please do not run this whole file before you implement all the codes. Otherwise some errors will occur.*\n",
    "- *Please do not change the inputs arguments of the functions in py files, otherwise your implementation would fail to pass the test.*\n",
    "- *After you implement one function, remember to restart the notebook kernel to help it recognize your fresh code.*\n",
    "- *Please do not change the structure of files in the whole folder of this assignment, otherwise TA may mark your code wrongly.*"
   ]
  },
  {
   "cell_type": "markdown",
   "metadata": {
    "colab_type": "text",
    "id": "BJ02fkGYMc1r",
    "slideshow": {
     "slide_type": "-"
    }
   },
   "source": [
    "## Structure of Codes\n",
    "\n",
    "The structure of provided codes and the functionality of its containing files is shown as below:\n",
    "\n",
    "```bash\n",
    "codes/\n",
    "    data/\n",
    "        mnist.npz       # mnist dataset \n",
    "    models/    # example models of your tiny deep learning framework\n",
    "        MNISTNet.py     # example model on MNIST dataset\n",
    "    nn/        # components of neural networks\n",
    "        layers.py       # layer abstract for CNN\n",
    "        loss.py         # loss function for optimization\n",
    "        model.py        # model abstraction for defining and training models\n",
    "        operations.py   # operation abstraction for defined layers, your main workspace\n",
    "        optimizers.py   # optimizing methods, you only need to implement Adam\n",
    "    utils/     # some additional tools for CNN\n",
    "        check_grads.py  # help you check whether your forward function and backward function are consistent\n",
    "        datasets.py     # load dataset, like MNIST\n",
    "        initializers.py # initializing methods to initialize parameters (like weights, bias)\n",
    "        tools.py        # other useful functions\n",
    "    main.ipynb # interactive notebook, help you understand your task\n",
    "    README.MD  # requirements to run main.ipynb\n",
    "```"
   ]
  },
  {
   "cell_type": "markdown",
   "metadata": {
    "colab_type": "text",
    "id": "KEdQW6wvMc1s",
    "slideshow": {
     "slide_type": "-"
    }
   },
   "source": [
    "## Functionality of This Notebook\n",
    "\n",
    "This iPython notebook serves to:\n",
    "\n",
    "- explain code structure, main APIs and implementation examples (`FC`) \n",
    "- explain your task\n",
    "- provide code to test your implemented forward and backward function for different operations\n",
    "- provide related materials to help you understand the implementation of some operations and optimizers\n",
    "\n",
    "*You can type `jupyter lab` in the terminal to start this jupyter notebook while you are in the folder containing this file. It's much more convinient than jupyter notebook.*"
   ]
  },
  {
   "cell_type": "markdown",
   "metadata": {
    "colab_type": "text",
    "id": "x1PX-rIHMc1t"
   },
   "source": [
    "# Your Task"
   ]
  },
  {
   "cell_type": "markdown",
   "metadata": {
    "colab_type": "text",
    "id": "XkwjPhDcMc1u"
   },
   "source": [
    "## Adam Optimizer\n",
    "In the file [nn/optimizers.py](nn/optimizers.py), there are 4 types of optimizer (`SGD`, `Adam`, `RMSprop` and `Adagrad`). **You only need to implement the `update` function of `Adam`**. \n",
    "\n",
    "`Adam` optimizer is initialized like this:\n",
    "\n",
    "```python\n",
    "class Adam(Optimizer):\n",
    "    def __init__(self, lr=0.001, beta_1=0.9, beta_2=0.999, epsilon=None, decay=0, sheduler_func=None):\n",
    "        super(Adam, self).__init__(lr)\n",
    "        self.beta_1 = beta_1\n",
    "        self.beta_2 = beta_2\n",
    "        self.epsilon = epsilon\n",
    "        self.decay = decay\n",
    "        if not self.epsilon:\n",
    "            self.epsilon = 1e-8\n",
    "        self.moments = None\n",
    "        self.accumulators = None\n",
    "        self.sheduler_func = sheduler_func\n",
    "```\n",
    "\n",
    "- `lr`: The initial learning rate.\n",
    "- `decay`: The learning rate decay ratio\n",
    "- `sheduler_func`: Function to change learning rate with respect to iterations\n",
    "\n",
    "More details can be seen in the reference.\n",
    "\n",
    "*For you reference:* http://cs231n.github.io/neural-networks-3/#update"
   ]
  },
  {
   "cell_type": "markdown",
   "metadata": {
    "colab_type": "text",
    "id": "4aUPcsSRMc1v"
   },
   "source": [
    "## Covolution Layer\n",
    "In the file [nn/layers.py](nn/layers.py), the initialization, forward and backward function of the class `Convolution` are shown as below:\n",
    "```python\n",
    "class Convolution(Layer):\n",
    "    def __init__(self, conv_params, initializer=Gaussian(), name='conv'):\n",
    "        super(Convolution, self).__init__(name=name)\n",
    "        self.trainable = True\n",
    "        self.conv_params = conv_params\n",
    "        self.conv = conv(conv_params)\n",
    "\n",
    "        self.weights = initializer.initialize(\n",
    "            (conv_params['out_channel'], conv_params['in_channel'], conv_params['kernel_h'], conv_params['kernel_w']))\n",
    "        self.bias = np.zeros((conv_params['out_channel']))\n",
    "\n",
    "        self.w_grad = np.zeros(self.weights.shape)\n",
    "        self.b_grad = np.zeros(self.bias.shape)\n",
    "\n",
    "    def forward(self, input):\n",
    "        output = self.conv.forward(input, self.weights, self.bias)\n",
    "        return output\n",
    "\n",
    "    def backward(self, out_grad, input):\n",
    "        in_grad, self.w_grad, self.b_grad = self.conv.backward(\n",
    "            out_grad, input, self.weights, self.bias)\n",
    "        return in_grad\n",
    "\n",
    "```\n",
    "\n",
    "`conv_params` is a dictionary, containing these parameters:\n",
    "\n",
    "- 'kernel_h': The height of kernel.\n",
    "- 'kernel_w': The width of kernel.\n",
    "- 'stride': The number of pixels between adjacent receptive fields in the horizontal and vertical directions.\n",
    "- 'pad': The number of pixels padded to the bottom, top, left and right of each feature map. **Here pad=2 means adding 2 zeros to the left, right, top and bottom respectively**.\n",
    "- 'in_channel': The number of input channels.\n",
    "- 'out_channel': The number of output channels.\n",
    "\n",
    "`initializer` is an instance of Initializer class, used to initialize parameters\n",
    "\n",
    "You need to implement forward and backward funtion of `conv` class in [nn/operations.py](nn/operations.py), which are called in the `Convolution` layer."
   ]
  },
  {
   "cell_type": "markdown",
   "metadata": {
    "colab_type": "text",
    "id": "D7tY5YEGMc1w"
   },
   "source": [
    "### Forward\n",
    "In the file [nn/operations.py](nn/operations.py), implement the forward function for `conv` class.\n",
    "\n",
    "The input consists of N data points, each with C channels, height H and width W. We convolve each input with K different kernels, where each filter spans all C channels and has height HH and width WW.\n",
    "\n",
    "**WARNING: Please implement the matrix product method of convolution as shown in Lecture notes. The naive version of implementing a sliding window will be too slow when you try to train the whole CNN in later sections.**\n",
    "\n",
    "You can test your implementation by restarting jupyter notebook kernel and running the following:"
   ]
  },
  {
   "cell_type": "code",
   "execution_count": 0,
   "metadata": {
    "colab": {},
    "colab_type": "code",
    "id": "veRSlBKOMc1w",
    "outputId": "e8b094cc-ede2-4cec-e239-2508f3a41b43"
   },
   "outputs": [
    {
     "name": "stderr",
     "output_type": "stream",
     "text": [
      "Using TensorFlow backend.\n"
     ]
    },
    {
     "name": "stdout",
     "output_type": "stream",
     "text": [
      "Relative error (<1e-6 will be fine):  3.5086448921039715e-07\n"
     ]
    }
   ],
   "source": [
    "import numpy as np\n",
    "import warnings\n",
    "warnings.filterwarnings('ignore')\n",
    "\n",
    "from nn.layers import Convolution\n",
    "from utils.tools import rel_error\n",
    "\n",
    "from keras import Sequential\n",
    "from keras.layers import Conv2D\n",
    "\n",
    "input = np.random.uniform(size=(10, 3, 30, 30))\n",
    "params = { \n",
    "    'kernel_h': 5,\n",
    "    'kernel_w': 5,\n",
    "    'pad': 0,\n",
    "    'stride': 2,\n",
    "    'in_channel': input.shape[1],\n",
    "    'out_channel': 64,\n",
    "}\n",
    "conv = Convolution(params)\n",
    "out = conv.forward(input)\n",
    "\n",
    "keras_conv = Sequential([\n",
    "    Conv2D(filters=params['out_channel'],\n",
    "            kernel_size=(params['kernel_h'], params['kernel_w']),\n",
    "            strides=(params['stride'], params['stride']),\n",
    "            padding='valid',\n",
    "            data_format='channels_first',\n",
    "            input_shape=input.shape[1:]),\n",
    "])\n",
    "keras_conv.layers[0].set_weights([conv.weights.transpose((2,3,1,0)), conv.bias])\n",
    "\n",
    "keras_out = keras_conv.predict(input, batch_size=input.shape[0])\n",
    "print('Relative error (<1e-6 will be fine): ', rel_error(out, keras_out))"
   ]
  },
  {
   "cell_type": "markdown",
   "metadata": {
    "colab_type": "text",
    "id": "HXCmP9iqMc12"
   },
   "source": [
    "### Backward\n",
    "Implement the backward function for the `conv` class in the file [nn/operations.py](nn/operations.py). \n",
    "\n",
    "When you are done, restart jupyter notebook and run the following to check your backward pass with a numeric gradient check. \n",
    "\n",
    "In gradient checking, to get an approximate gradient for a parameter, we vary that parameter by a small amount (while keeping rest of parameters constant) and note the difference in the network loss. Dividing the difference in network loss by the amount we varied the parameter gives us an approximation for the gradient. We repeat this process for all the other parameters to obtain our numerical gradient. Note that gradient checking is a slow process (2 forward propagations per parameter) and should only be used to check your backpropagation!\n",
    "\n",
    "More links on gradient checking:\n",
    "\n",
    "http://ufldl.stanford.edu/tutorial/supervised/DebuggingGradientChecking/\n",
    "\n",
    "https://www.coursera.org/learn/machine-learning/lecture/Y3s6r/gradient-checking"
   ]
  },
  {
   "cell_type": "code",
   "execution_count": 0,
   "metadata": {
    "colab": {},
    "colab_type": "code",
    "id": "ERyaNalfMc13",
    "outputId": "da6a24af-2e4e-425e-c8bb-f0f9efdb7398"
   },
   "outputs": [
    {
     "name": "stdout",
     "output_type": "stream",
     "text": [
      "Gradient to input: correct\n",
      "Gradient to weights:  correct\n",
      "Gradient to bias:  correct\n"
     ]
    }
   ],
   "source": [
    "from nn.layers import Convolution\n",
    "import numpy as np\n",
    "from utils.check_grads import check_grads_layer\n",
    "\n",
    "batch = 10\n",
    "conv_params={\n",
    "    'kernel_h': 3,\n",
    "    'kernel_w': 3,\n",
    "    'pad': 0,\n",
    "    'stride': 2,\n",
    "    'in_channel': 3,\n",
    "    'out_channel': 10\n",
    "}\n",
    "in_height = 10\n",
    "in_width = 20\n",
    "out_height = 1+(in_height+2*conv_params['pad']-conv_params['kernel_h'])//conv_params['stride']\n",
    "out_width = 1+(in_width+2*conv_params['pad']-conv_params['kernel_w'])//conv_params['stride']\n",
    "\n",
    "input = np.random.uniform(size=(batch, conv_params['in_channel'], in_height, in_width))\n",
    "out_grad = np.random.uniform(size=(batch, conv_params['out_channel'], out_height, out_width))\n",
    "\n",
    "conv = Convolution(conv_params)\n",
    "check_grads_layer(conv, input, out_grad)"
   ]
  },
  {
   "cell_type": "markdown",
   "metadata": {
    "colab_type": "text",
    "id": "JtYf7h8vMc16"
   },
   "source": [
    "## Pooling Layer\n",
    "In the file [nn/layers.py](nn/layers.py), the initialization, forward and backward funtion of the class `Pooling` are shown as below:\n",
    "\n",
    "```python\n",
    "class Pooling(Layer):\n",
    "    def __init__(self, pool_params, name='pooling'):\n",
    "        super(Pooling, self).__init__(name=name)\n",
    "        self.pool_params = pool_params\n",
    "        self.pool = pool(pool_params)\n",
    "        \n",
    "    def forward(self, input):\n",
    "        output = self.pool.forward(input)\n",
    "        return output\n",
    "\n",
    "    def backward(self, out_grad, input):\n",
    "        in_grad = self.pool.backward(out_grad, input)\n",
    "        return in_grad\n",
    "```\n",
    "\n",
    "`pool_params` is a dictionary, containing these parameters:\n",
    "- 'pool_type': The type of pooling, 'max' or 'avg'\n",
    "- 'pool_h': The height of pooling kernel.\n",
    "- 'pool_w': The width of pooling kernel.\n",
    "- 'stride': The number of pixels between adjacent receptive fields in the horizontal and vertical directions.\n",
    "- 'pad': The number of pixels that will be used to zero-pad the input in each x-y direction. **Here pad=2 means adding 2 zeros to the left, right, top and bottom respectively**.\n",
    "\n",
    "You need to implement forward and backward funtion of `pool` class in [nn/operations.py](nn/operations.py), which are called in `Pooling` layer."
   ]
  },
  {
   "cell_type": "markdown",
   "metadata": {
    "colab_type": "text",
    "id": "76lUNnk2Mc17"
   },
   "source": [
    "### Forward\n",
    "Implement the forward function for `pool` class in the file [nn/operations.py](nn/operations.py).\n",
    "\n",
    "You can test your implementation by restarting jupyter notebook kernel and running the following:"
   ]
  },
  {
   "cell_type": "code",
   "execution_count": 0,
   "metadata": {
    "colab": {},
    "colab_type": "code",
    "id": "x0-ZUomwMc17",
    "outputId": "09f2b0e3-2d1e-4bbd-a612-d095eb611a14"
   },
   "outputs": [
    {
     "name": "stdout",
     "output_type": "stream",
     "text": [
      "Relative error (<1e-6 will be fine):  7.688212112373772e-09\n"
     ]
    }
   ],
   "source": [
    "import numpy as np\n",
    "import warnings\n",
    "warnings.filterwarnings('ignore')\n",
    "\n",
    "from nn.layers import Pooling\n",
    "from utils.tools import rel_error\n",
    "\n",
    "from keras import Sequential\n",
    "from keras.layers import MaxPooling2D\n",
    "\n",
    "input = np.random.uniform(size=(10, 3, 30, 30))\n",
    "params = { \n",
    "    'pool_type': 'max',\n",
    "    'pool_height': 5,\n",
    "    'pool_width': 5,\n",
    "    'pad': 0,\n",
    "    'stride': 2,\n",
    "}\n",
    "pool = Pooling(params)\n",
    "out = pool.forward(input)\n",
    "\n",
    "keras_pool = Sequential([\n",
    "    MaxPooling2D(pool_size=(params['pool_height'], params['pool_width']),\n",
    "                 strides=params['stride'],\n",
    "                 padding='valid',\n",
    "                 data_format='channels_first',\n",
    "                 input_shape=input.shape[1:])\n",
    "])\n",
    "keras_out = keras_pool.predict(input, batch_size=input.shape[0])\n",
    "print('Relative error (<1e-6 will be fine): ', rel_error(out, keras_out))"
   ]
  },
  {
   "cell_type": "markdown",
   "metadata": {
    "colab_type": "text",
    "id": "eNmj_s7dMc1-"
   },
   "source": [
    "### Backward\n",
    "Implement the backward function for `pool` class in the file [nn/operations.py](nn/operations.py). **You need to implement max-pooing and avg-pooling according to 'pool_type' in pool_params**\n",
    "\n",
    "You can test your implementation by restarting jupyter notebook kernel and running the following:"
   ]
  },
  {
   "cell_type": "code",
   "execution_count": 0,
   "metadata": {
    "colab": {},
    "colab_type": "code",
    "id": "67WN4Lo4Mc1_",
    "outputId": "699eda79-8605-486f-fbfa-b15c34e9c021"
   },
   "outputs": [
    {
     "name": "stdout",
     "output_type": "stream",
     "text": [
      "Gradient to input: correct\n"
     ]
    }
   ],
   "source": [
    "from nn.layers import Pooling\n",
    "import numpy as np\n",
    "from utils.check_grads import check_grads_layer\n",
    "\n",
    "batch = 10\n",
    "pool_params={\n",
    "    'pool_type': 'max',\n",
    "    'pool_height': 2,\n",
    "    'pool_width': 3,\n",
    "    'stride': 2,\n",
    "    'pad': 0\n",
    "}\n",
    "in_height = 10\n",
    "in_width = 10\n",
    "in_channel = 10\n",
    "out_height = 1+(in_height-pool_params['pool_height']+2*pool_params['pad'])//pool_params['stride']\n",
    "out_width = 1+(in_width-pool_params['pool_width']+2*pool_params['pad'])//pool_params['stride']\n",
    "\n",
    "input = np.random.uniform(size=(batch, in_channel, in_height, in_width))\n",
    "out_grads = np.random.uniform(size=(batch, in_channel, out_height, out_width))\n",
    "pool = Pooling(pool_params)\n",
    "check_grads_layer(pool, input, out_grads)"
   ]
  },
  {
   "cell_type": "markdown",
   "metadata": {
    "colab_type": "text",
    "id": "HmXA9NDiMc2D"
   },
   "source": [
    "## Dropout Layer\n",
    "Dropout [1] is a technique for regularizing neural networks by randomly setting some features to zero during the forward pass. In this exercise you will implement a dropout layer and modify your fully-connected network to optionally use dropout.\n",
    "\n",
    "[1] Geoffrey E. Hinton et al, \"Improving neural networks by preventing co-adaptation of feature detectors\", arXiv 2012\n",
    "\n",
    "In the file `layers.py`, the initialization, forward and backward function of class `Dropout` are shown as below:\n",
    "\n",
    "```python\n",
    "class Dropout(Layer):\n",
    "    def __init__(self, rate, name='dropout', seed=None):\n",
    "        super(Dropout, self).__init__(name=name)\n",
    "        self.rate = rate\n",
    "        self.seed = seed\n",
    "        self.dropout = dropout(rate, self.training, seed)\n",
    "\n",
    "    def forward(self, input):\n",
    "        output = self.dropout.forward(input)\n",
    "        return output\n",
    "\n",
    "    def backward(self, out_grad, input):\n",
    "        in_grad = self.dropout.backward(out_grad, input)\n",
    "        return in_grad\n",
    "```\n",
    "\n",
    "- `rate`: The probability of setting a neuron to zero\n",
    "- `seed`: seed: int, random seed to sample from input, so as to get mask, which is convenient to check gradients. But for real training, it should be None to make sure to randomly drop neurons\n",
    "\n",
    "You need to implement forward and backward funtion of `dropout` class in [nn/operations.py](nn/operations.py), which are called in `Dropout` layer."
   ]
  },
  {
   "cell_type": "markdown",
   "metadata": {
    "colab_type": "text",
    "id": "81p07sNVMc2E"
   },
   "source": [
    "### Forward\n",
    "In the file [nn/operations.py](nn/operations.py), implement the forward function for `dropout` class. Since dropout behaves differently during training and testing, make sure to implement the operation for both modes.  `p` refers to the probability of setting a neuron to zero. We will follow the Caffe convention where we multiply the outputs by `1/(1-p)` during training. "
   ]
  },
  {
   "cell_type": "markdown",
   "metadata": {
    "colab_type": "text",
    "id": "KmrHfJSBMc2F"
   },
   "source": [
    "### Backward\n",
    "In the file [nn/operations.py](nn/operations.py), implement the backward function for `dropout` class. After the implementation, restart jupyter notebook and run the following cell to numerically gradient-check your implementation."
   ]
  },
  {
   "cell_type": "code",
   "execution_count": 0,
   "metadata": {
    "colab": {},
    "colab_type": "code",
    "id": "HHnwwOukMc2G",
    "outputId": "434907fa-a6a6-4667-e248-245de006dd13"
   },
   "outputs": [
    {
     "name": "stdout",
     "output_type": "stream",
     "text": [
      "Gradient to input: correct\n"
     ]
    }
   ],
   "source": [
    "from nn.layers import Dropout\n",
    "\n",
    "import numpy as np\n",
    "from utils.check_grads import check_grads_layer\n",
    "\n",
    "rate = 0.1\n",
    "batch = 2\n",
    "height = 10\n",
    "width = 20\n",
    "channel = 10\n",
    "\n",
    "np.random.seed(1234)\n",
    "input = np.random.uniform(size=(batch, channel, height, width))\n",
    "out_grads = np.random.uniform(size=(batch, channel, height, width))\n",
    "\n",
    "dropout = Dropout(rate, seed=1234)\n",
    "dropout.set_mode(True)\n",
    "check_grads_layer(dropout, input, out_grads)"
   ]
  },
  {
   "cell_type": "markdown",
   "metadata": {
    "colab_type": "text",
    "id": "kXqVWTt1Mc2J"
   },
   "source": [
    "## Train the net on full MNIST data\n",
    "By training the `MNISTNet` for one epoch, you should achieve above 90% on test set. You may have to wait about 5 minutes for training to be completed."
   ]
  },
  {
   "cell_type": "code",
   "execution_count": 0,
   "metadata": {
    "colab": {},
    "colab_type": "code",
    "id": "hc-RvlsbMc2K",
    "outputId": "1bbd84e7-c186-4c9d-e7f9-9b8273951a22"
   },
   "outputs": [
    {
     "name": "stdout",
     "output_type": "stream",
     "text": [
      "Number of training images:  48000\n",
      "Number of validation images:  12000\n",
      "Number of testing images:  10000\n",
      "\n",
      "Four examples of training images:\n"
     ]
    },
    {
     "data": {
      "text/plain": [
       "<matplotlib.image.AxesImage at 0x11e8e4b00>"
      ]
     },
     "execution_count": 12,
     "metadata": {
      "tags": []
     },
     "output_type": "execute_result"
    },
    {
     "data": {
      "image/png": "[encoded data removed]",
      "text/plain": [
       "<Figure size 1296x1296 with 4 Axes>"
      ]
     },
     "metadata": {
      "tags": []
     },
     "output_type": "display_data"
    }
   ],
   "source": [
    "%matplotlib inline\n",
    "import matplotlib.pyplot as plt\n",
    "from models.MNISTNet import MNISTNet\n",
    "from nn.loss import SoftmaxCrossEntropy, L2\n",
    "from nn.optimizers import Adam\n",
    "from utils.datasets import MNIST\n",
    "import numpy as np\n",
    "\n",
    "mnist = MNIST()\n",
    "mnist.load()\n",
    "idx = np.random.randint(mnist.num_train, size=4)\n",
    "print('\\nFour examples of training images:')\n",
    "img = mnist.x_train[idx][:,0,:,:]\n",
    "\n",
    "plt.figure(1, figsize=(18, 18))\n",
    "plt.subplot(1, 4, 1)\n",
    "plt.imshow(img[0])\n",
    "plt.subplot(1, 4, 2)\n",
    "plt.imshow(img[1])\n",
    "plt.subplot(1, 4, 3)\n",
    "plt.imshow(img[2])\n",
    "plt.subplot(1, 4, 4)\n",
    "plt.imshow(img[3])"
   ]
  },
  {
   "cell_type": "code",
   "execution_count": 0,
   "metadata": {
    "colab": {},
    "colab_type": "code",
    "id": "OKlE1O2OMc2N",
    "outputId": "3743980d-9d69-4e84-ec55-d7127d84c82a"
   },
   "outputs": [
    {
     "name": "stdout",
     "output_type": "stream",
     "text": [
      "Epoch 0: \n",
      "Train iter 100/1600:\tacc 0.27, loss 2.27, reg loss 0.00, speed 1233.24 imgs/sec\n",
      "Train iter 200/1600:\tacc 0.63, loss 1.09, reg loss 0.02, speed 1458.23 imgs/sec\n",
      "Train iter 300/1600:\tacc 0.60, loss 0.87, reg loss 0.02, speed 1507.21 imgs/sec\n",
      "Train iter 400/1600:\tacc 0.83, loss 0.69, reg loss 0.02, speed 1500.73 imgs/sec\n",
      "Test acc 0.86, loss 0.47\n",
      "Train iter 500/1600:\tacc 0.93, loss 0.32, reg loss 0.03, speed 442.05 imgs/sec\n",
      "Train iter 600/1600:\tacc 0.93, loss 0.50, reg loss 0.03, speed 1536.22 imgs/sec\n",
      "Train iter 700/1600:\tacc 0.93, loss 0.56, reg loss 0.03, speed 1534.80 imgs/sec\n",
      "Train iter 800/1600:\tacc 0.90, loss 0.30, reg loss 0.03, speed 1548.24 imgs/sec\n",
      "Train iter 900/1600:\tacc 0.97, loss 0.13, reg loss 0.03, speed 1549.30 imgs/sec\n",
      "Test acc 0.93, loss 0.25\n",
      "Train iter 1000/1600:\tacc 0.93, loss 0.31, reg loss 0.03, speed 440.96 imgs/sec\n",
      "Train iter 1100/1600:\tacc 0.93, loss 0.26, reg loss 0.03, speed 1535.66 imgs/sec\n",
      "Train iter 1200/1600:\tacc 0.90, loss 0.29, reg loss 0.03, speed 1545.25 imgs/sec\n",
      "Train iter 1300/1600:\tacc 1.00, loss 0.11, reg loss 0.03, speed 1497.49 imgs/sec\n",
      "Train iter 1400/1600:\tacc 0.90, loss 0.25, reg loss 0.03, speed 1517.45 imgs/sec\n",
      "Test acc 0.93, loss 0.22\n",
      "Train iter 1500/1600:\tacc 0.83, loss 0.45, reg loss 0.03, speed 441.04 imgs/sec\n",
      "Epoch 1: \n",
      "Train iter 100/1600:\tacc 0.93, loss 0.21, reg loss 0.03, speed 1529.58 imgs/sec\n",
      "Train iter 200/1600:\tacc 0.87, loss 0.47, reg loss 0.03, speed 1548.81 imgs/sec\n",
      "Train iter 300/1600:\tacc 0.97, loss 0.11, reg loss 0.03, speed 1551.09 imgs/sec\n",
      "Train iter 400/1600:\tacc 1.00, loss 0.05, reg loss 0.03, speed 1532.32 imgs/sec\n",
      "Test acc 0.94, loss 0.19\n",
      "Train iter 500/1600:\tacc 0.90, loss 0.18, reg loss 0.03, speed 438.26 imgs/sec\n",
      "Train iter 600/1600:\tacc 0.97, loss 0.21, reg loss 0.03, speed 1537.96 imgs/sec\n",
      "Train iter 700/1600:\tacc 0.93, loss 0.32, reg loss 0.03, speed 1546.04 imgs/sec\n",
      "Train iter 800/1600:\tacc 0.93, loss 0.27, reg loss 0.03, speed 1549.27 imgs/sec\n",
      "Train iter 900/1600:\tacc 0.93, loss 0.25, reg loss 0.03, speed 1470.89 imgs/sec\n",
      "Test acc 0.95, loss 0.18\n",
      "Train iter 1000/1600:\tacc 0.97, loss 0.10, reg loss 0.03, speed 376.59 imgs/sec\n",
      "Train iter 1100/1600:\tacc 0.93, loss 0.22, reg loss 0.03, speed 1515.84 imgs/sec\n",
      "Train iter 1200/1600:\tacc 0.90, loss 0.27, reg loss 0.03, speed 1546.26 imgs/sec\n",
      "Train iter 1300/1600:\tacc 0.97, loss 0.15, reg loss 0.03, speed 1539.78 imgs/sec\n",
      "Train iter 1400/1600:\tacc 1.00, loss 0.07, reg loss 0.03, speed 1520.67 imgs/sec\n",
      "Test acc 0.95, loss 0.18\n",
      "Train iter 1500/1600:\tacc 0.90, loss 0.25, reg loss 0.03, speed 436.17 imgs/sec\n",
      "cost: 93.63372707366943\n"
     ]
    }
   ],
   "source": [
    "model = MNISTNet()\n",
    "loss = SoftmaxCrossEntropy(num_class=10)\n",
    "\n",
    "# define your learning rate sheduler\n",
    "def func(lr, iteration):\n",
    "    if iteration % 1000 ==0:\n",
    "        return lr*0.5\n",
    "    else:\n",
    "        return lr\n",
    "\n",
    "adam = Adam(lr=0.001, decay=0,  sheduler_func = func)\n",
    "l2 = L2(w=0.001) # L2 regularization with lambda=0.001\n",
    "model.compile(optimizer=adam, loss=loss, regularization=l2)\n",
    "\n",
    "import time\n",
    "start = time.time()\n",
    "train_results, val_results, test_results = model.train(\n",
    "    mnist, \n",
    "    train_batch=30, val_batch=1000, test_batch=1000, \n",
    "    epochs=2, \n",
    "    val_intervals=-1, test_intervals=500, print_intervals=100)\n",
    "print('cost:', time.time()-start)"
   ]
  },
  {
   "cell_type": "code",
   "execution_count": 0,
   "metadata": {
    "colab": {},
    "colab_type": "code",
    "id": "GXrOOSggMc2P",
    "outputId": "00a4d04b-7352-4fb8-b59c-eb0b2e6a6da3"
   },
   "outputs": [
    {
     "data": {
      "text/plain": [
       "[<matplotlib.lines.Line2D at 0x118861a90>]"
      ]
     },
     "execution_count": 4,
     "metadata": {
      "tags": []
     },
     "output_type": "execute_result"
    },
    {
     "data": {
      "image/png": "[encoded data removed]",
      "text/plain": [
       "<Figure size 1296x576 with 4 Axes>"
      ]
     },
     "metadata": {
      "tags": []
     },
     "output_type": "display_data"
    }
   ],
   "source": [
    "plt.figure(figsize=(18, 8))\n",
    "plt.subplot(2, 2, 1)\n",
    "plt.title('Training loss')\n",
    "plt.plot(train_results[:,0], train_results[:,1])\n",
    "plt.subplot(2, 2, 3)\n",
    "plt.title('Training accuracy')\n",
    "plt.plot(train_results[:,0], train_results[:,2])\n",
    "plt.subplot(2, 2, 2)\n",
    "plt.title('Testing loss')\n",
    "plt.plot(test_results[:,0], test_results[:, 1])\n",
    "plt.subplot(2, 2, 4)\n",
    "plt.title('Testing accuracy')\n",
    "plt.plot(test_results[:, 0], test_results[:,2])"
   ]
  },
  {
   "cell_type": "markdown",
   "metadata": {
    "colab_type": "text",
    "id": "LKtxAdE0Mc2S"
   },
   "source": [
    "# Train your best MNISTNet!\n",
    "Tweak the hyperparameters and structure of the MNISTNet. \n"
   ]
  },
  {
   "cell_type": "code",
   "execution_count": 0,
   "metadata": {
    "colab": {},
    "colab_type": "code",
    "id": "X3MEll8UMc2T",
    "outputId": "3e039189-8ba6-4e4f-d773-7c24975da96b"
   },
   "outputs": [
    {
     "name": "stdout",
     "output_type": "stream",
     "text": [
      "Epoch 0: \n",
      "Train iter 100/1600:\tacc 0.50, loss 1.65, reg loss 0.01, speed 1057.42 imgs/sec\n",
      "Train iter 200/1600:\tacc 0.97, loss 0.41, reg loss 0.03, speed 1400.65 imgs/sec\n",
      "Train iter 300/1600:\tacc 0.93, loss 0.31, reg loss 0.04, speed 1263.24 imgs/sec\n",
      "Train iter 400/1600:\tacc 0.93, loss 0.33, reg loss 0.04, speed 1368.95 imgs/sec\n",
      "Test acc 0.93, loss 0.25\n",
      "Train iter 500/1600:\tacc 1.00, loss 0.12, reg loss 0.04, speed 377.39 imgs/sec\n",
      "Train iter 600/1600:\tacc 0.97, loss 0.29, reg loss 0.04, speed 1392.89 imgs/sec\n",
      "Train iter 700/1600:\tacc 0.90, loss 0.36, reg loss 0.04, speed 1321.58 imgs/sec\n",
      "Train iter 800/1600:\tacc 0.93, loss 0.17, reg loss 0.04, speed 1352.23 imgs/sec\n",
      "Train iter 900/1600:\tacc 1.00, loss 0.05, reg loss 0.04, speed 1400.03 imgs/sec\n",
      "Test acc 0.95, loss 0.15\n",
      "Train iter 1000/1600:\tacc 0.93, loss 0.19, reg loss 0.04, speed 377.25 imgs/sec\n",
      "Train iter 1100/1600:\tacc 0.97, loss 0.20, reg loss 0.04, speed 1331.51 imgs/sec\n",
      "Train iter 1200/1600:\tacc 0.97, loss 0.18, reg loss 0.04, speed 1287.41 imgs/sec\n",
      "Train iter 1300/1600:\tacc 0.97, loss 0.14, reg loss 0.04, speed 1311.33 imgs/sec\n",
      "Train iter 1400/1600:\tacc 0.97, loss 0.19, reg loss 0.04, speed 1332.50 imgs/sec\n",
      "Test acc 0.96, loss 0.14\n",
      "Train iter 1500/1600:\tacc 0.93, loss 0.24, reg loss 0.04, speed 363.03 imgs/sec\n",
      "Epoch 1: \n",
      "Train iter 100/1600:\tacc 0.97, loss 0.13, reg loss 0.04, speed 1312.09 imgs/sec\n",
      "Train iter 200/1600:\tacc 0.93, loss 0.28, reg loss 0.04, speed 1389.78 imgs/sec\n",
      "Train iter 300/1600:\tacc 1.00, loss 0.02, reg loss 0.04, speed 1316.48 imgs/sec\n",
      "Train iter 400/1600:\tacc 1.00, loss 0.03, reg loss 0.04, speed 1344.71 imgs/sec\n",
      "Test acc 0.96, loss 0.12\n",
      "Train iter 500/1600:\tacc 0.97, loss 0.14, reg loss 0.04, speed 344.34 imgs/sec\n",
      "Train iter 600/1600:\tacc 0.97, loss 0.11, reg loss 0.04, speed 1133.76 imgs/sec\n",
      "Train iter 700/1600:\tacc 0.93, loss 0.25, reg loss 0.04, speed 1119.40 imgs/sec\n",
      "Train iter 800/1600:\tacc 0.93, loss 0.16, reg loss 0.04, speed 1391.91 imgs/sec\n",
      "Train iter 900/1600:\tacc 0.93, loss 0.19, reg loss 0.04, speed 1249.05 imgs/sec\n",
      "Test acc 0.96, loss 0.12\n",
      "Train iter 1000/1600:\tacc 1.00, loss 0.03, reg loss 0.04, speed 361.12 imgs/sec\n",
      "Train iter 1100/1600:\tacc 1.00, loss 0.07, reg loss 0.04, speed 1278.81 imgs/sec\n",
      "Train iter 1200/1600:\tacc 0.97, loss 0.13, reg loss 0.04, speed 1334.60 imgs/sec\n",
      "Train iter 1300/1600:\tacc 0.97, loss 0.08, reg loss 0.04, speed 1316.77 imgs/sec\n",
      "Train iter 1400/1600:\tacc 1.00, loss 0.05, reg loss 0.04, speed 1287.54 imgs/sec\n",
      "Test acc 0.96, loss 0.11\n",
      "Train iter 1500/1600:\tacc 0.90, loss 0.25, reg loss 0.04, speed 309.80 imgs/sec\n",
      "Epoch 2: \n",
      "Train iter 100/1600:\tacc 0.97, loss 0.11, reg loss 0.04, speed 1126.24 imgs/sec\n",
      "Train iter 200/1600:\tacc 1.00, loss 0.03, reg loss 0.04, speed 1104.78 imgs/sec\n",
      "Train iter 300/1600:\tacc 1.00, loss 0.02, reg loss 0.04, speed 1184.92 imgs/sec\n",
      "Train iter 400/1600:\tacc 1.00, loss 0.05, reg loss 0.04, speed 1168.68 imgs/sec\n",
      "Test acc 0.96, loss 0.11\n",
      "Train iter 500/1600:\tacc 0.90, loss 0.24, reg loss 0.04, speed 325.93 imgs/sec\n",
      "Train iter 600/1600:\tacc 1.00, loss 0.05, reg loss 0.04, speed 1327.30 imgs/sec\n",
      "Train iter 700/1600:\tacc 0.93, loss 0.10, reg loss 0.04, speed 1369.28 imgs/sec\n",
      "Train iter 800/1600:\tacc 1.00, loss 0.02, reg loss 0.04, speed 1290.91 imgs/sec\n",
      "Train iter 900/1600:\tacc 0.93, loss 0.12, reg loss 0.04, speed 1001.76 imgs/sec\n",
      "Test acc 0.97, loss 0.11\n",
      "Train iter 1000/1600:\tacc 0.90, loss 0.18, reg loss 0.04, speed 324.55 imgs/sec\n",
      "Train iter 1100/1600:\tacc 0.97, loss 0.22, reg loss 0.04, speed 1162.86 imgs/sec\n",
      "Train iter 1200/1600:\tacc 1.00, loss 0.01, reg loss 0.04, speed 1311.03 imgs/sec\n",
      "Train iter 1300/1600:\tacc 1.00, loss 0.06, reg loss 0.04, speed 1202.53 imgs/sec\n",
      "Train iter 1400/1600:\tacc 0.93, loss 0.23, reg loss 0.04, speed 1219.69 imgs/sec\n",
      "Test acc 0.97, loss 0.11\n",
      "Train iter 1500/1600:\tacc 0.93, loss 0.26, reg loss 0.04, speed 368.96 imgs/sec\n",
      "Epoch 3: \n",
      "Train iter 100/1600:\tacc 0.97, loss 0.08, reg loss 0.04, speed 1110.82 imgs/sec\n",
      "Train iter 200/1600:\tacc 0.93, loss 0.23, reg loss 0.04, speed 1233.82 imgs/sec\n",
      "Train iter 300/1600:\tacc 0.97, loss 0.08, reg loss 0.04, speed 1237.33 imgs/sec\n",
      "Train iter 400/1600:\tacc 1.00, loss 0.04, reg loss 0.04, speed 1135.64 imgs/sec\n",
      "Test acc 0.97, loss 0.10\n",
      "Train iter 500/1600:\tacc 0.93, loss 0.12, reg loss 0.04, speed 358.83 imgs/sec\n",
      "Train iter 600/1600:\tacc 1.00, loss 0.03, reg loss 0.04, speed 1354.63 imgs/sec\n",
      "Train iter 700/1600:\tacc 0.97, loss 0.12, reg loss 0.04, speed 1338.98 imgs/sec\n",
      "Train iter 800/1600:\tacc 1.00, loss 0.02, reg loss 0.04, speed 1350.16 imgs/sec\n",
      "Train iter 900/1600:\tacc 1.00, loss 0.07, reg loss 0.04, speed 1345.88 imgs/sec\n",
      "Test acc 0.97, loss 0.10\n",
      "Train iter 1000/1600:\tacc 0.97, loss 0.13, reg loss 0.04, speed 368.42 imgs/sec\n",
      "Train iter 1100/1600:\tacc 1.00, loss 0.04, reg loss 0.04, speed 1374.73 imgs/sec\n",
      "Train iter 1200/1600:\tacc 0.97, loss 0.26, reg loss 0.04, speed 1345.26 imgs/sec\n",
      "Train iter 1300/1600:\tacc 0.93, loss 0.18, reg loss 0.04, speed 1350.37 imgs/sec\n",
      "Train iter 1400/1600:\tacc 1.00, loss 0.02, reg loss 0.04, speed 1225.33 imgs/sec\n",
      "Test acc 0.97, loss 0.10\n",
      "Train iter 1500/1600:\tacc 1.00, loss 0.04, reg loss 0.04, speed 374.18 imgs/sec\n",
      "cost: 224.98476219177246\n"
     ]
    }
   ],
   "source": [
    "# define your new model and all training codes here, like loading data, defining optimizer and so on\n",
    "model = MNISTNet()\n",
    "loss = SoftmaxCrossEntropy(num_class=10)\n",
    "\n",
    "adam = Adam(lr=0.0008, decay=0,  sheduler_func = func)\n",
    "l2 = L2(w=0.001) # L2 regularization with lambda=0.001\n",
    "model.compile(optimizer=adam, loss=loss, regularization=l2)\n",
    "\n",
    "start = time.time()\n",
    "train_results, val_results, test_results = model.train(\n",
    "    mnist, \n",
    "    train_batch=30, val_batch=1000, test_batch=1000, \n",
    "    epochs=4, \n",
    "    val_intervals=-1, test_intervals=500, print_intervals=100)\n",
    "print('cost:', time.time()-start)\n",
    "# ..."
   ]
  },
  {
   "cell_type": "markdown",
   "metadata": {
    "colab_type": "text",
    "id": "F-u-hDa4Mc2X"
   },
   "source": [
    "#### Description and Results\n",
    "Please write down what you have tuned and the results. A table would explain the results clearly.\n",
    "\n",
    "\n",
    "-----------------------------------\n",
    "\n",
    "Firstly I tried to use the loop to find the best hyperparameters for the model. However, the input data seemed to be changed while using the loop，and the test accuracy suddenly reduced to 0.86 or even 0.11. I needed to re-run the codes in 2.4 and get the normal results which are not less than 0.95. Hence, I finally manually tuned the model to find better hyperparameters. The best parameters are {Adam(lr=0.0008, decay=0), L2(w=0.001), epochs=4} and the highest test accuracy is 97%.\n",
    "\n",
    "|    Parameters    | Test Accuracy(%) |\n",
    "| ---------- | --- |\n",
    "| Adam(lr=0.001, decay=0), L2(w=0.001), epochs=2 | 95 |\n",
    "| Adam(lr=0.0009, decay=0), L2(w=0.001), epochs=2 | 95 |\n",
    "| Adam(lr=0.0008, decay=0), L2(w=0.001), epochs=2 | 96 |\n",
    "| Adam(lr=0.0007, decay=0), L2(w=0.001), epochs=2 | 96 |\n",
    "| Adam(lr=0.0006, decay=0), L2(w=0.001), epochs=2 | 95 |\n",
    "| Adam(lr=0.0008, decay=0), L2(w=0.001), epochs=3 | 97 |\n",
    "| Adam(lr=0.0007, decay=0), L2(w=0.001), epochs=3 | 96 |\n",
    "| Adam(lr=0.0008, decay=1e-6), L2(w=0.001), epochs=3 | 95 |\n",
    "| Adam(lr=0.0008, decay=0), L2(w=0.001), epochs=4 | 97 |\n",
    "| Adam(lr=0.0008, decay=0), L2(w=0.001), epochs=5 | 97 |\n",
    "| Adam(lr=0.0008, decay=0), L2(w=0.0001), epochs=4 | 95 |\n",
    "\n",
    "-----------------------------------"
   ]
  },
  {
   "cell_type": "markdown",
   "metadata": {
    "colab_type": "text",
    "id": "S-d9PYk7Mc2Y"
   },
   "source": [
    "# Marking Scheme\n",
    "\n",
    "Marking scheme is shown below:\n",
    "- 4 marks for `Adam` update function\n",
    "- 5 marks for `conv` forward and backward function\n",
    "- 4 marks for `pool` forward and backward function\n",
    "- 3 marks for `dropout` forward and backward function\n",
    "- 3 marks for tuning your best MNISTNet\n",
    "- 1 marks for your submission format\n",
    "\n",
    "We will run multiple test cases to check the correctness of the implementation for `Adam`, `conv`, `pool`, `dropout`. The submission format is shown below.\n",
    "\n",
    "**DO NOT** use external libraries like Tensorflow, keras and Pytorch in your implementation (*.py files). **DO NOT** copy the code from the internet, e.g. github. "
   ]
  },
  {
   "cell_type": "markdown",
   "metadata": {
    "colab_type": "text",
    "id": "bWLqtCD5Mc2Z"
   },
   "source": [
    "# Final submission instructions\n",
    "Please submit the following:\n",
    "\n",
    "1) Your codes in a folder named `codes`, and keep the structure of all files in this folder the same as what we have provided. \n",
    "\n",
    "**ASSIGNMENT DEADLINE: 11 Mar 2019 (MON) 17:00**\n",
    "\n",
    "Do not include the `data` folder as it takes up substantial memory. Please zip up the following folders under a folder named with your NUSNET ID: eg. `e0123456g.zip` and submit the zipped folder to LumiNUS/Files/Assignment 1 Submission. The structure should be like this after unzip:\n",
    "\n",
    "```bash\n",
    "e0123456g/\n",
    "    codes/\n",
    "        models/\n",
    "            ...\n",
    "        nn/\n",
    "            ...\n",
    "        utils/\n",
    "            ...\n",
    "        main.ipynb\n",
    "        README.MD\n",
    "```"
   ]
  },
  {
   "cell_type": "code",
   "execution_count": 0,
   "metadata": {
    "colab": {},
    "colab_type": "code",
    "id": "cCJBX1yWMc2a"
   },
   "outputs": [],
   "source": []
  }
 ],
 "metadata": {
  "colab": {
   "name": "main.ipynb",
   "provenance": [],
   "version": "0.3.2"
  },
  "kernelspec": {
   "display_name": "Python 3",
   "language": "python",
   "name": "python3"
  },
  "language_info": {
   "codemirror_mode": {
    "name": "ipython",
    "version": 3
   },
   "file_extension": ".py",
   "mimetype": "text/x-python",
   "name": "python",
   "nbconvert_exporter": "python",
   "pygments_lexer": "ipython3",
   "version": "3.6.5"
  },
  "toc": {
   "base_numbering": 1,
   "nav_menu": {},
   "number_sections": true,
   "sideBar": true,
   "skip_h1_title": false,
   "title_cell": "Table of Contents",
   "title_sidebar": "Contents",
   "toc_cell": false,
   "toc_position": {},
   "toc_section_display": true,
   "toc_window_display": false
  }
 },
 "nbformat": 4,
 "nbformat_minor": 1
}
