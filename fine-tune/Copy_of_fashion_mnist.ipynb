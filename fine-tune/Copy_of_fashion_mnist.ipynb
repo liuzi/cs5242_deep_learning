{
 "cells": [
  {
   "cell_type": "markdown",
   "metadata": {
    "colab_type": "text",
    "id": "r2NPAI4jZZgi"
   },
   "source": [
    "# Classify Fashion-MNIST using MLP\n",
    "\n",
    "\n",
    "Credit: This notebook is adapted based on [Margaret Maynard-Reid's notebook](https://colab.research.google.com/github/margaretmz/deep-learning/blob/master/fashion_mnist_keras.ipynb)\n",
    "\n"
   ]
  },
  {
   "cell_type": "markdown",
   "metadata": {
    "colab_type": "text",
    "id": "18xLQCydFHqi"
   },
   "source": [
    "## Why Jupyter Notebook?\n",
    "\n",
    "\n",
    "*   Interactive programming in the web browser\n",
    "*   Great for visualization\n",
    "*   Great for collabration\n",
    "*   Popular tool for studying machine learning / deep learning\n",
    "\n",
    "\n"
   ]
  },
  {
   "cell_type": "markdown",
   "metadata": {
    "colab_type": "text",
    "id": "XLMRPLVCFwEc"
   },
   "source": [
    "## Why Fashion-MNIST?\n",
    "\n",
    "\n",
    "*   MNIST is too easy\n",
    "*   MNIST is overused\n",
    "*   MNIST can not represent modern Computer Vision tasks\n",
    "\n",
    "Read more about the Fashion-MINST dataset in this paper [here](https://arxiv.org/abs/1708.07747) (**Fashion-MNIST: a Novel Image Dataset for Benchmarking Machine Learning Algorithms**)\n",
    "\n"
   ]
  },
  {
   "cell_type": "markdown",
   "metadata": {
    "colab_type": "text",
    "id": "Ixyte299ZZgk"
   },
   "source": [
    "## Notebook Overview\n",
    "\n",
    "\n",
    "The [fashion_mnist](https://github.com/zalandoresearch/fashion-mnist) data: \n",
    "60,000 train and 10,000 test data with 10 categories. Each gray-scale image is 28x28.\n",
    "\n",
    "<br> **Label**\t**Description**\n",
    "<br> 0 T-shirt/top\n",
    "<br> 1 Trouser\n",
    "<br> 2 Pullover\n",
    "<br> 3 Dress\n",
    "<br> 4 Coat\n",
    "<br> 5 Sandal\n",
    "<br> 6 Shirt\n",
    "<br> 7 Sneaker\n",
    "<br> 8 Bag\n",
    "<br> 9 Ankle boot\n",
    "\n",
    "Each gray-scale image is 28x28"
   ]
  },
  {
   "cell_type": "markdown",
   "metadata": {
    "colab_type": "toc",
    "id": "1jQGPl2l7kF7"
   },
   "source": [
    ">[Classify Fashion-MNIST](#scrollTo=r2NPAI4jZZgi)\n",
    "\n",
    ">>[Why Jupyter Notebook?](#scrollTo=18xLQCydFHqi)\n",
    "\n",
    ">>[Why Fashion-MNIST?](#scrollTo=XLMRPLVCFwEc)\n",
    "\n",
    ">>[Notebook Overview](#scrollTo=Ixyte299ZZgk)\n",
    "\n",
    ">>[Download the fashion_mnist data](#scrollTo=LbCigZtNZZgl)\n",
    "\n",
    ">>[Visualize the data](#scrollTo=tWORMSC8FDR4)\n",
    "\n",
    ">>[Data normalization](#scrollTo=Zx-Ee6LHZZgt)\n",
    "\n",
    ">>[Split the data into train/validation/test data sets](#scrollTo=CFlNHktHBtru)\n",
    "\n",
    ">>[Create the model architecture](#scrollTo=HhalcO03ZZg3)\n",
    "\n",
    ">>[Compile the model](#scrollTo=FhxJ5dinZZg8)\n",
    "\n",
    ">>[Train the model](#scrollTo=DtOvh3YVZZg_)\n",
    "\n",
    ">>[Load Model with the best validation accuracy](#scrollTo=e-MGLwZQy05d)\n",
    "\n",
    ">>[Test Accuracy](#scrollTo=9RTRkan4yq5H)\n",
    "\n",
    ">>[Visualize prediction](#scrollTo=oJv7XEk10bOv)\n",
    "\n",
    ">>[Congragulations!](#scrollTo=8AehWdRAVKN5)\n",
    "\n"
   ]
  },
  {
   "cell_type": "markdown",
   "metadata": {
    "colab_type": "text",
    "id": "LbCigZtNZZgl"
   },
   "source": [
    "## Download the fashion_mnist data\n",
    "First let's install TensorFlow version 1.8.0 and import Tensorflow. Then we download fashion-mnist which is one of the Keras datasets. "
   ]
  },
  {
   "cell_type": "code",
   "execution_count": 0,
   "metadata": {
    "colab": {
     "base_uri": "https://localhost:8080/",
     "height": 35
    },
    "colab_type": "code",
    "id": "d44TznbgZZgm",
    "outputId": "8c788113-4f55-45a1-9ff6-d4c79ef939c0"
   },
   "outputs": [
    {
     "name": "stdout",
     "output_type": "stream",
     "text": [
      "x_train shape: (60000, 28, 28) y_train shape: (60000,)\n"
     ]
    }
   ],
   "source": [
    "!pip install -q -U tensorflow>=1.8.0\n",
    "import tensorflow as tf\n",
    "\n",
    "import numpy as np\n",
    "import matplotlib.pyplot as plt\n",
    "\n",
    "# Load the fashion-mnist pre-shuffled train data and test data\n",
    "(x_train, y_train), (x_test, y_test) = tf.keras.datasets.fashion_mnist.load_data()\n",
    "\n",
    "print(\"x_train shape:\", x_train.shape, \"y_train shape:\", y_train.shape)"
   ]
  },
  {
   "cell_type": "markdown",
   "metadata": {
    "colab_type": "text",
    "id": "tWORMSC8FDR4"
   },
   "source": [
    "## Visualize the data"
   ]
  },
  {
   "cell_type": "code",
   "execution_count": 0,
   "metadata": {
    "colab": {
     "base_uri": "https://localhost:8080/",
     "height": 439
    },
    "colab_type": "code",
    "id": "aFe4wHGRFKle",
    "outputId": "b0fe8970-867a-446f-e772-e15642fbd39e"
   },
   "outputs": [
    {
     "name": "stdout",
     "output_type": "stream",
     "text": [
      "x_train shape: (60000, 28, 28) y_train shape: (60000,)\n",
      "60000 train set\n",
      "10000 test set\n",
      "y = 2 Pullover\n"
     ]
    },
    {
     "data": {
      "text/plain": [
       "<matplotlib.image.AxesImage at 0x7f6b3ae6fd68>"
      ]
     },
     "execution_count": 2,
     "metadata": {
      "tags": []
     },
     "output_type": "execute_result"
    },
    {
     "data": {
      "image/png": "[encoded data removed]",
      "text/plain": [
       "<Figure size 576x396 with 1 Axes>"
      ]
     },
     "metadata": {
      "tags": []
     },
     "output_type": "display_data"
    }
   ],
   "source": [
    "# Print training set shape - note there are 60,000 training data of image size of 28x28, 60,000 train labels)\n",
    "print(\"x_train shape:\", x_train.shape, \"y_train shape:\", y_train.shape)\n",
    "\n",
    "# Print the number of training and test datasets\n",
    "print(x_train.shape[0], 'train set')\n",
    "print(x_test.shape[0], 'test set')\n",
    "\n",
    "# Define the text labels\n",
    "fashion_mnist_labels = [\"T-shirt/top\",  # index 0\n",
    "                        \"Trouser\",      # index 1\n",
    "                        \"Pullover\",     # index 2 \n",
    "                        \"Dress\",        # index 3 \n",
    "                        \"Coat\",         # index 4\n",
    "                        \"Sandal\",       # index 5\n",
    "                        \"Shirt\",        # index 6 \n",
    "                        \"Sneaker\",      # index 7 \n",
    "                        \"Bag\",          # index 8 \n",
    "                        \"Ankle boot\"]   # index 9\n",
    "\n",
    "# Image index, you can pick any number between 0 and 59,999\n",
    "img_index = 5\n",
    "# y_train contains the lables, ranging from 0 to 9\n",
    "label_index = y_train[img_index]\n",
    "# Print the label, for example 2 Pullover\n",
    "print (\"y = \" + str(label_index) + \" \" +(fashion_mnist_labels[label_index]))\n",
    "# # Show one of the images from the training dataset\n",
    "plt.imshow(x_train[img_index])"
   ]
  },
  {
   "cell_type": "markdown",
   "metadata": {
    "colab_type": "text",
    "id": "Zx-Ee6LHZZgt"
   },
   "source": [
    "## Data normalization\n",
    "Normalize the data dimensions so that they are of approximately the same scale."
   ]
  },
  {
   "cell_type": "code",
   "execution_count": 0,
   "metadata": {
    "colab": {},
    "colab_type": "code",
    "id": "XNh5NIckZZgu"
   },
   "outputs": [],
   "source": [
    "x_train = x_train.astype('float32') / 255\n",
    "x_test = x_test.astype('float32') / 255"
   ]
  },
  {
   "cell_type": "code",
   "execution_count": 0,
   "metadata": {
    "colab": {
     "base_uri": "https://localhost:8080/",
     "height": 54
    },
    "colab_type": "code",
    "id": "LMSg53fiZZgx",
    "outputId": "bf8001de-0ff6-4371-aa3f-b3b5b4dab393"
   },
   "outputs": [
    {
     "name": "stdout",
     "output_type": "stream",
     "text": [
      "Number of train data - 60000\n",
      "Number of test data - 10000\n"
     ]
    }
   ],
   "source": [
    "print(\"Number of train data - \" + str(len(x_train)))\n",
    "print(\"Number of test data - \" + str(len(x_test)))"
   ]
  },
  {
   "cell_type": "markdown",
   "metadata": {
    "colab_type": "text",
    "id": "CFlNHktHBtru"
   },
   "source": [
    "## Split the data into train/validation/test data sets\n",
    "\n",
    "\n",
    "*   Training data - used for training the model\n",
    "*   Validation data - used for tuning the hyperparameters and evaluate the models\n",
    "*   Test data - used to test the model after the model has gone through initial vetting by the validation set.\n",
    "\n"
   ]
  },
  {
   "cell_type": "code",
   "execution_count": 0,
   "metadata": {
    "colab": {
     "base_uri": "https://localhost:8080/",
     "height": 90
    },
    "colab_type": "code",
    "id": "1ShU787gZZg0",
    "outputId": "4cd61d5b-68f1-4029-85c2-27fb15cb45b1"
   },
   "outputs": [
    {
     "name": "stdout",
     "output_type": "stream",
     "text": [
      "x_train shape: (55000, 784) y_train shape: (55000,)\n",
      "55000 train set\n",
      "5000 validation set\n",
      "10000 test set\n"
     ]
    }
   ],
   "source": [
    "# Further break training data into train / validation sets (# put 5000 into validation set and keep remaining 55,000 for train)\n",
    "(x_train, x_valid) = x_train[5000:], x_train[:5000] \n",
    "(y_train, y_valid) = y_train[5000:].astype(np.int), y_train[:5000].astype(np.int)\n",
    "\n",
    "# Reshape input data from (28, 28) to (28, 28, 1)\n",
    "w, h = 28, 28\n",
    "x_train = x_train.reshape(x_train.shape[0], w * h)\n",
    "x_valid = x_valid.reshape(x_valid.shape[0], w * h)\n",
    "x_test = x_test.reshape(x_test.shape[0], w * h)\n",
    "\n",
    "# One-hot encode the labels\n",
    "#y_train = tf.keras.utils.to_categorical(y_train, 10)\n",
    "#y_valid = tf.keras.utils.to_categorical(y_valid, 10)\n",
    "#y_test = tf.keras.utils.to_categorical(y_test, 10)\n",
    "\n",
    "\n",
    "# Print training set shape\n",
    "print(\"x_train shape:\", x_train.shape, \"y_train shape:\", y_train.shape)\n",
    "\n",
    "# Print the number of training, validation, and test datasets\n",
    "print(x_train.shape[0], 'train set')\n",
    "print(x_valid.shape[0], 'validation set')\n",
    "print(x_test.shape[0], 'test set')"
   ]
  },
  {
   "cell_type": "markdown",
   "metadata": {
    "colab_type": "text",
    "id": "jb3YO1hEOoFC"
   },
   "source": [
    "# Create the Operations\n",
    "\n",
    "To create the basic operations for implementing the MLP model."
   ]
  },
  {
   "cell_type": "code",
   "execution_count": 0,
   "metadata": {
    "colab": {},
    "colab_type": "code",
    "id": "nRlTrQLuOxRG"
   },
   "outputs": [],
   "source": [
    "class operation(object):\n",
    "    \"\"\"\n",
    "    Operation abstraction\n",
    "    \"\"\"\n",
    "\n",
    "    def forward(self, input):\n",
    "        \"\"\"Forward operation, reture output\"\"\"\n",
    "        raise NotImplementedError\n",
    "\n",
    "    def backward(self, out_grad, input):\n",
    "        \"\"\"Backward operation, return gradient to input\"\"\"\n",
    "        raise NotImplementedError\n",
    "\n",
    "\n",
    "class relu(operation):\n",
    "    def __init__(self):\n",
    "        super(relu, self).__init__()\n",
    "\n",
    "    def forward(self, input):\n",
    "        output = np.maximum(0, input)\n",
    "        return output\n",
    "\n",
    "    def backward(self, out_grad, input):\n",
    "        #print(input.shape, out_grad.shape)\n",
    "        in_grad = (input >= 0) * out_grad\n",
    "        #print(in_grad.shape)\n",
    "        return in_grad\n",
    "\n",
    "      \n",
    "class matmul(operation):\n",
    "    def forward(self, input, weights):\n",
    "        \"\"\"\n",
    "        # Arguments\n",
    "            input: numpy array with shape (batch, in_features)\n",
    "            weights: numpy array with shape (in_features, out_features)\n",
    "\n",
    "        # Returns\n",
    "            output: numpy array with shape(batch, out_features)\n",
    "        \"\"\"\n",
    "        return np.matmul(input, weights)\n",
    "    \n",
    "    def backward(self, out_grad, input, weights):\n",
    "        \"\"\"\n",
    "        # Arguments\n",
    "            out_grad: gradient to the forward output of fc layer, with shape (batch, out_features)\n",
    "            input: numpy array with shape (batch, in_features)\n",
    "            weights: numpy array with shape (in_features, out_features)\n",
    "            \n",
    "        # Returns\n",
    "            in_grad: gradient to the forward input with same shape as input\n",
    "            w_grad: gradient to weights, with same shape as weights            \n",
    "        \"\"\"\n",
    "        in_grad = np.matmul(out_grad, weights.T)\n",
    "        w_grad = np.matmul(input.T, out_grad)\n",
    "        return in_grad, w_grad\n",
    "        \n",
    "    \n",
    "class add_bias(operation):\n",
    "    def forward(self, input, bias):\n",
    "        '''\n",
    "        # Arugments\n",
    "          input: numpy array with shape (batch, in_features)\n",
    "          bias: numpy array with shape (in_features)\n",
    "\n",
    "        # Returns\n",
    "          output: numpy array with shape(batch, in_features)\n",
    "        '''\n",
    "        return input + bias.reshape(1, -1)\n",
    "    \n",
    "    \n",
    "    def backward(self, out_grad, input, bias):\n",
    "        \"\"\"\n",
    "        # Arguments\n",
    "            out_grad: gradient to the forward output of fc layer, with shape (batch, out_features)\n",
    "            input: numpy array with shape (batch, in_features)\n",
    "            bias: numpy array with shape (out_features)\n",
    "        # Returns\n",
    "            in_grad: gradient to the forward input with same shape as input\n",
    "            b_bias: gradient to bias, with same shape as bias\n",
    "        \"\"\"\n",
    "        in_grad = out_grad\n",
    "        b_grad = np.sum(out_grad, axis=0)\n",
    "        return in_grad, b_grad\n",
    "        \n",
    "        \n",
    "class softmax_cross_entropy(operation):\n",
    "    \n",
    "    def forward(self, input, labels):\n",
    "        \"\"\"\n",
    "        # Arguments\n",
    "            input: numpy array with shape (batch, num_class)\n",
    "            labels: numpy array with shape (batch,)\n",
    "            \n",
    "        # Returns\n",
    "            output: scalar, average loss\n",
    "            probs: the probability of each category\n",
    "        \"\"\"\n",
    "        # precision to avoid overflow\n",
    "        eps = 1e-12\n",
    "\n",
    "        batch = len(labels)\n",
    "        input_shift = input - np.max(input, axis=1, keepdims=True)\n",
    "        Z = np.sum(np.exp(input_shift), axis=1, keepdims=True)\n",
    "\n",
    "        log_probs = input_shift - np.log(Z+eps)\n",
    "        probs = np.exp(log_probs)\n",
    "        output = -1 * np.sum(log_probs[np.arange(batch, dtype=np.int), labels]) / batch\n",
    "        return output\n",
    "\n",
    "    def backward(self, input, labels):\n",
    "        \"\"\"\n",
    "        # Arguments\n",
    "            input: numpy array with shape (batch, num_class)\n",
    "            labels: numpy array with shape (batch,)\n",
    "        # Returns\n",
    "            in_grad: gradient to forward input of softmax cross entropy, with shape (batch, num_class)\n",
    "        \"\"\"\n",
    "        # precision to avoid overflow\n",
    "        eps = 1e-12\n",
    "\n",
    "        batch = len(labels)\n",
    "        input_shift = input - np.max(input, axis=1, keepdims=True)\n",
    "        Z = np.sum(np.exp(input_shift), axis=1, keepdims=True)\n",
    "        log_probs = input_shift - np.log(Z+eps)\n",
    "        probs = np.exp(log_probs)\n",
    "\n",
    "        in_grad = probs.copy()\n",
    "        in_grad[np.arange(batch), labels] -= 1\n",
    "        in_grad /= batch\n",
    "        return in_grad\n",
    "\n",
    "class SGD(object):\n",
    "    '''For update the parameters based on gradient'''\n",
    "    def __init__(self, alpha):\n",
    "        self.alpha = alpha\n",
    "       \n",
    "        \n",
    "    def update(self, p, g):\n",
    "        '''\n",
    "        Arguments\n",
    "            p is the parameter numpy array\n",
    "            g is the gradient numpy array\n",
    "            \n",
    "        Returns\n",
    "            the updated parameter numpy array\n",
    "        '''\n",
    "        p -= self.alpha * g\n",
    "        return p"
   ]
  },
  {
   "cell_type": "markdown",
   "metadata": {
    "colab_type": "text",
    "id": "eP0PY0F_kX1_"
   },
   "source": [
    "# Simple model\n",
    "\n",
    "## Construct the model graph\n",
    "\n",
    "Create operator instances to construct the computation graph of the model"
   ]
  },
  {
   "cell_type": "code",
   "execution_count": 0,
   "metadata": {
    "colab": {},
    "colab_type": "code",
    "id": "GSMYf56WkWtY"
   },
   "outputs": [],
   "source": [
    "op1=matmul()\n",
    "op2=add_bias()\n",
    "op3=softmax_cross_entropy()\n",
    "# initialize W and b\n",
    "\n",
    "W= np.random.rand(x_train.shape[1], 10)/10\n",
    "b= np.zeros(10)\n",
    "    \n",
    "\n"
   ]
  },
  {
   "cell_type": "markdown",
   "metadata": {
    "colab_type": "text",
    "id": "BFnHYeysrEyu"
   },
   "source": [
    "##  Conduct training using mini-batch SGD with momentum"
   ]
  },
  {
   "cell_type": "code",
   "execution_count": 0,
   "metadata": {
    "colab": {
     "base_uri": "https://localhost:8080/",
     "height": 201
    },
    "colab_type": "code",
    "id": "YEcDeRSgrStP",
    "outputId": "f8a6b8b0-f5e6-4052-a6ed-7b18988166a5"
   },
   "outputs": [
    {
     "name": "stdout",
     "output_type": "stream",
     "text": [
      "loss at epoch 0 is 0.5726926033155759\n",
      "loss at epoch 1 is 0.46860742037680103\n",
      "loss at epoch 2 is 0.44829310830358715\n",
      "loss at epoch 3 is 0.43711969246589066\n",
      "loss at epoch 4 is 0.429582048904328\n",
      "loss at epoch 5 is 0.423966470719737\n",
      "loss at epoch 6 is 0.4195310671500469\n",
      "loss at epoch 7 is 0.4158897574082135\n",
      "loss at epoch 8 is 0.4128167299331042\n",
      "loss at epoch 9 is 0.41016892839714947\n"
     ]
    }
   ],
   "source": [
    "\n",
    "mW=np.zeros_like(W)\n",
    "mb=np.zeros_like(b)\n",
    "\n",
    "batchsize = 32\n",
    "num_epoch = 10\n",
    "alpha = 0.01\n",
    "sgd = SGD(alpha)\n",
    "\n",
    "for epoch in range(num_epoch):\n",
    "    loss = 0\n",
    "    for i in range(y_train.shape[0] // batchsize):\n",
    "        x = x_train[i*batchsize: i*batchsize + batchsize]\n",
    "        y = y_train[i*batchsize: i*batchsize + batchsize]\n",
    "        z1 = op1.forward(x, W)\n",
    "        z2 = op2.forward(z1, b)\n",
    "        loss += op3.forward(z2, y)\n",
    "        \n",
    "        dz2 = op3.backward(z2, y)\n",
    "        dz1, db = op2.backward(dz2, z1, b)\n",
    "        dx, dW = op1.backward(dz1, x, W)\n",
    "        #W = sgd.update(W, dW)\n",
    "        #b = sgd.update(b, db)\n",
    "        \n",
    "        \n",
    "        mW = 0.9 * mW + dW\n",
    "        mb = 0.9 * mb + db\n",
    "        W = W - alpha * mW\n",
    "        b = b - alpha * mb\n",
    "        \n",
    "        \n",
    "    print('loss at epoch {} is {}'.format(epoch, loss / (i+1)))\n",
    "\n"
   ]
  },
  {
   "cell_type": "markdown",
   "metadata": {
    "colab_type": "text",
    "id": "9RTRkan4yq5H"
   },
   "source": [
    "## Test Accuracy"
   ]
  },
  {
   "cell_type": "code",
   "execution_count": 0,
   "metadata": {
    "colab": {
     "base_uri": "https://localhost:8080/",
     "height": 54
    },
    "colab_type": "code",
    "id": "VZtqBqFFy62R",
    "outputId": "0a0e15f9-f71d-46cd-fd23-ddffc06599ec"
   },
   "outputs": [
    {
     "name": "stdout",
     "output_type": "stream",
     "text": [
      "\n",
      " Test accuracy: 0.8332\n"
     ]
    }
   ],
   "source": [
    "z=op1.forward(x_test, W)\n",
    "z=op2.forward(z, b)\n",
    "predict = np.argmax(z, axis=1)\n",
    "ncorrect = np.sum(predict ==  y_test)\n",
    "\n",
    "# Print test accuracy\n",
    "print('\\n', 'Test accuracy:', ncorrect / y_test.shape[0])"
   ]
  },
  {
   "cell_type": "markdown",
   "metadata": {
    "colab_type": "text",
    "id": "oJv7XEk10bOv"
   },
   "source": [
    "## Visualize prediction\n",
    "Now let's visualize the prediction using the model you just trained. \n",
    "First we get the predictions with the model from the test data.\n",
    "Then we print out 15 images from the test data set, and set the titles with the prediction (and the groud truth label).\n",
    "If the prediction matches the true label, the title will be green; otherwise it's displayed in red."
   ]
  },
  {
   "cell_type": "code",
   "execution_count": 0,
   "metadata": {
    "colab": {
     "base_uri": "https://localhost:8080/",
     "height": 501
    },
    "colab_type": "code",
    "id": "QwNmlfIC0YxM",
    "outputId": "eb11db70-f7fc-4102-d7af-50d46a4aec8c"
   },
   "outputs": [
    {
     "data": {
      "image/png": "[encoded data removed]",
      "text/plain": [
       "<Figure size 1440x576 with 15 Axes>"
      ]
     },
     "metadata": {
      "tags": []
     },
     "output_type": "display_data"
    }
   ],
   "source": [
    "# Plot a random sample of 10 test images, their predicted labels and ground truth\n",
    "figure = plt.figure(figsize=(20, 8))\n",
    "for i, index in enumerate(np.random.choice(x_test.shape[0], size=15, replace=False)):\n",
    "    ax = figure.add_subplot(3, 5, i + 1, xticks=[], yticks=[])\n",
    "    # Display each image\n",
    "    ax.imshow(np.squeeze(x_test[index]).reshape(w, h))\n",
    "    predict_index = predict[i]\n",
    "    true_index = y_test[i]\n",
    "    # Set the title for each image\n",
    "    ax.set_title(\"{} ({})\".format(fashion_mnist_labels[predict_index], \n",
    "                                  fashion_mnist_labels[true_index]),\n",
    "                                  color=(\"green\" if predict_index == true_index else \"red\"))"
   ]
  },
  {
   "cell_type": "markdown",
   "metadata": {
    "colab_type": "text",
    "id": "6yPwrc_chTP0"
   },
   "source": [
    "# Complex model"
   ]
  },
  {
   "cell_type": "code",
   "execution_count": 0,
   "metadata": {
    "colab": {},
    "colab_type": "code",
    "id": "V7U2LKOt7cjE"
   },
   "outputs": [],
   "source": [
    "class Layer(object):\n",
    "    \"\"\"\n",
    "    Layer abstraction\n",
    "    \"\"\"\n",
    "\n",
    "    def __init__(self, name):\n",
    "        \"\"\"Initialization\"\"\"\n",
    "        self.name = name\n",
    "        self.training = True  # The phrase, if for training then true\n",
    "        self.trainable = False  # Whether there are parameters in this layer that can be trained\n",
    "\n",
    "    def forward(self, input):\n",
    "        \"\"\"Forward pass, reture output\"\"\"\n",
    "        raise NotImplementedError\n",
    "\n",
    "    def backward(self, out_grad, input):\n",
    "        \"\"\"Backward pass, return gradient to input\"\"\"\n",
    "        raise NotImplementedError\n",
    "\n",
    "    def update(self, optimizer):\n",
    "        \"\"\"Update parameters in this layer\"\"\"\n",
    "        pass\n",
    "\n",
    "    def set_mode(self, training):\n",
    "        \"\"\"Set the phrase/mode into training (True) or tesing (False)\"\"\"\n",
    "        self.training = training\n",
    "\n",
    "    def set_trainable(self, trainable):\n",
    "        \"\"\"Set the layer can be trainable (True) or not (False)\"\"\"\n",
    "        self.trainable = trainable\n",
    "\n",
    "    def get_params(self, prefix):\n",
    "        \"\"\"Reture parameters and gradient of this layer\"\"\"\n",
    "        return None\n",
    "\n",
    "\n",
    "class FCLayer(Layer):\n",
    "    def __init__(self, in_features, out_features, name='fclayer'):\n",
    "        \"\"\"Initialization\n",
    "        # Arguments\n",
    "            in_features: int, the number of input features\n",
    "            out_features: int, the numbet of required output features\n",
    "            initializer: Initializer class, to initialize weights\n",
    "        \"\"\"\n",
    "        super(FCLayer, self).__init__(name=name)\n",
    "        self.matmul = matmul()\n",
    "        self.addbias = add_bias()\n",
    "\n",
    "        self.trainable = True\n",
    "\n",
    "        self.weights = np.random.rand(in_features, out_features) *0.01\n",
    "        self.bias = np.zeros(out_features)\n",
    "\n",
    "        self.w_grad = np.zeros(self.weights.shape)\n",
    "        self.b_grad = np.zeros(self.bias.shape)\n",
    "\n",
    "    def forward(self, input):\n",
    "        out = self.matmul.forward(input, self.weights)\n",
    "        return self.addbias.forward(out, self.bias)\n",
    "\n",
    "    def backward(self, out_grad, input):\n",
    "        g, self.b_grad = self.addbias.backward(out_grad, None, self.bias)\n",
    "        in_grad, self.w_gad=self.matmul.backward(g, input, self.weights)\n",
    "        return in_grad\n",
    "\n",
    "    def update(self, params):\n",
    "        \"\"\"Update parameters (self.weights and self.bias) with new params\n",
    "        # Arguments\n",
    "            params: dictionary, one key contains 'weights' and the other contains 'bias'\n",
    "        # Returns\n",
    "            none\n",
    "        \"\"\"\n",
    "        for k, v in params.items():\n",
    "            if 'weights' in k:\n",
    "                self.weights = v\n",
    "            else:\n",
    "                self.bias = v\n",
    "\n",
    "    def get_params(self, prefix):\n",
    "        \"\"\"Return parameters (self.weights and self.bias) as well as gradient (self.w_grad and self.b_grad)\n",
    "        # Arguments\n",
    "            prefix: string, to contruct prefix of keys in the dictionary (usually is the layer-ith)\n",
    "        # Returns\n",
    "            params: dictionary, store parameters of this layer, one key contains 'weights' and the other contains 'bias'\n",
    "            grads: dictionary, store gradient of this layer, one key contains 'weights' and the other contains 'bias'\n",
    "            None: if not trainable\n",
    "        \"\"\"\n",
    "        if self.trainable:\n",
    "            params = {\n",
    "                prefix+':'+self.name+'/weights': self.weights,\n",
    "                prefix+':'+self.name+'/bias': self.bias\n",
    "            }\n",
    "            grads = {\n",
    "                prefix+':'+self.name+'/weights': self.w_grad,\n",
    "                prefix+':'+self.name+'/bias': self.b_grad\n",
    "            }\n",
    "            return params, grads\n",
    "        else:\n",
    "            return None\n",
    "        "
   ]
  },
  {
   "cell_type": "code",
   "execution_count": 0,
   "metadata": {
    "colab": {},
    "colab_type": "code",
    "id": "6snoDMXl9X7e"
   },
   "outputs": [],
   "source": [
    "def get_params(layers):\n",
    "    params = {}\n",
    "    grads = {}\n",
    "    for l, layer in enumerate(layers):\n",
    "        if layer.trainable:\n",
    "            layer_params, layer_grads = layer.get_params('layer-%dth' % l)\n",
    "            params.update(layer_params)\n",
    "            grads.update(layer_grads)\n",
    "    return params, grads\n",
    "\n",
    "def update(layers, optimizer):\n",
    "    params, grads = get_params(layers)\n",
    "\n",
    "    # clip gradients\n",
    "    # for k, v in grads.items():\n",
    "    #     grads[k] = clip_gradients(v)\n",
    "    #     print(k, np.mean(np.abs(v)))\n",
    "    \n",
    "    new_params = {}\n",
    "    for k in list(params.keys()):\n",
    "        new_params[k] = optimizer.update(params[k], grads[k])\n",
    "\n",
    "    for l, layer in enumerate(layers):\n",
    "        if layer.trainable:\n",
    "            w_key = 'layer-%dth:' % l + layer.name + '/weights'\n",
    "            b_key = 'layer-%dth:' % l + layer.name + '/bias'\n",
    "            layer_params = {\n",
    "                w_key: new_params[w_key],\n",
    "                b_key: new_params[b_key]\n",
    "            }\n",
    "        layer.update(layer_params)\n",
    "        \n",
    "        \n",
    "\n",
    "            \n"
   ]
  },
  {
   "cell_type": "code",
   "execution_count": 0,
   "metadata": {
    "colab": {
     "base_uri": "https://localhost:8080/",
     "height": 109
    },
    "colab_type": "code",
    "id": "DC7UFQc87nVP",
    "outputId": "836f896e-9af5-48e6-a218-3b8417080e0b"
   },
   "outputs": [
    {
     "name": "stdout",
     "output_type": "stream",
     "text": [
      "loss at epoch 0 is 2.6542895723453896\n",
      "loss at epoch 1 is 2.519425920433939\n",
      "loss at epoch 2 is 2.455539307517287\n",
      "loss at epoch 3 is 2.4195412457043277\n",
      "loss at epoch 4 is 2.3967882075079756\n"
     ]
    }
   ],
   "source": [
    "model = []\n",
    "model.append(FCLayer(w*h, 32))\n",
    "model.append(relu())\n",
    "model.append(FCLayer(32, 32))\n",
    "model.append(relu())\n",
    "model.append(FCLayer(32, 16))\n",
    "\n",
    "layers = [x for x in model if isinstance(x, Layer)]\n",
    "\n",
    "loss_op = softmax_cross_entropy()\n",
    "\n",
    "sgd = SGD(0.01)\n",
    "batchsize = 64\n",
    "num_epoch = 5\n",
    "\n",
    "for epoch in range(num_epoch):\n",
    "    loss = 0\n",
    "    nbatch = y_train.shape[0] // batchsize\n",
    "    for i in range(nbatch):\n",
    "        x = x_train[i*batchsize: i*batchsize + batchsize]\n",
    "        y = y_train[i*batchsize: i*batchsize + batchsize]\n",
    "        outputs = []\n",
    "       \n",
    "        for l, node in enumerate(model):\n",
    "            outputs.append(x)\n",
    "            x = node.forward(x)\n",
    "        loss += loss_op.forward(x, y)\n",
    "        grads = loss_op.backward(x, y)\n",
    "        for l, node in enumerate(model[::-1]):\n",
    "            grads = node.backward(grads, outputs[-1-l])\n",
    "        update(layers, sgd)\n",
    "        \n",
    "    print('loss at epoch {} is {}'.format(epoch, loss / (nbatch)))"
   ]
  },
  {
   "cell_type": "markdown",
   "metadata": {
    "colab_type": "text",
    "id": "9tqw6ARY87qK"
   },
   "source": [
    "# Training over the computation graph (optional)"
   ]
  },
  {
   "cell_type": "code",
   "execution_count": 0,
   "metadata": {
    "colab": {},
    "colab_type": "code",
    "id": "yuu9xxVYhPCr"
   },
   "outputs": [],
   "source": [
    "class node(object):\n",
    "    def __init__(self, op, src, dst):\n",
    "        '''\n",
    "        A node in the computation graph which does the transformation of data \n",
    "        indexed by src and the result is put into the data indexed by dst.\n",
    "        \n",
    "        Arguments\n",
    "        op: an operation instance\n",
    "        src: a list for the index of the input data. All intermediate data is \n",
    "            stored in a global list.\n",
    "        dst: the index for the output data\n",
    "        '''\n",
    "        self.op = op\n",
    "        self.src = src\n",
    "        self.dst = dst\n",
    "        \n",
    "def sublist(inlist, idx):\n",
    "    '''return a sublist from the inlist'''\n",
    "    if type(idx) is list:\n",
    "        return [inlist[i] for i in idx]\n",
    "    else:\n",
    "        return [inlist[idx]]\n",
    "        \n",
    "def bp(model, values):\n",
    "    '''run backpropagation.\n",
    "    \n",
    "    Arguments\n",
    "        model: a list of operations\n",
    "        values: a list storing all data (tensor, matrix, vector or scalar)\n",
    "    \n",
    "    Returns\n",
    "        the gradient of the data in values\n",
    "        values\n",
    "    '''\n",
    "    grads = [None] * len(values)\n",
    "    for nd in model:\n",
    "        values[nd.dst] = nd.op.forward(*sublist(values, nd.src))\n",
    "    loss_nd = model[-1]\n",
    "    grads[loss_nd.src[0]]=loss_nd.op.backward(*sublist(values, loss_nd.src))\n",
    "    for nd in model[::-1][1:]:        \n",
    "        g = nd.op.backward(grads[nd.dst], *sublist(values, nd.src))\n",
    "        if type(g) is not tuple:\n",
    "            g = [g]\n",
    "        \n",
    "        for i, src in enumerate(nd.src):\n",
    "            grads[src] = g[i]\n",
    "            #print(values[src].shape, grads[src].shape)\n",
    "\n",
    "        \n",
    "    return grads, values"
   ]
  },
  {
   "cell_type": "code",
   "execution_count": 0,
   "metadata": {
    "colab": {
     "base_uri": "https://localhost:8080/",
     "height": 111
    },
    "colab_type": "code",
    "id": "HKmaE2VRiOZK",
    "outputId": "d6d29d20-d297-4dd3-83a1-c98a63aecb85"
   },
   "outputs": [
    {
     "name": "stdout",
     "output_type": "stream",
     "text": [
      "loss at iteration 858 is 225.7137280826951\n",
      "loss at iteration 858 is 8.565460415282411\n",
      "loss at iteration 858 is 4.307414661041713\n",
      "loss at iteration 858 is 2.758597569880868\n",
      "loss at iteration 858 is 1.9879508106484098\n"
     ]
    }
   ],
   "source": [
    "batchsize = 64\n",
    "num_epoch = 5\n",
    "alpha = 0.01\n",
    "\n",
    "values = []\n",
    "nodes = []\n",
    "param_idx = []\n",
    "\n",
    "# add matmul operation whose inputs are from values[0] and values[1]; \n",
    "# the output will be put into values[3]\n",
    "nodes.append(node(matmul(), [1, 2], 3))\n",
    "values.append(None)\n",
    "param_idx.append(len(values))\n",
    "# values[1] is the weight matrix\n",
    "values.append(np.random.rand(x_train.shape[1], 32)*0.01)\n",
    "\n",
    "\n",
    "# add_bias operation, whose inputs are from values[2] and values[3];\n",
    "# the output will be put into values[4]\n",
    "nodes.append(node(add_bias(), [2, 3], 4))\n",
    "values.append(None)\n",
    "param_idx.append(len(values))\n",
    "values.append(np.zeros(32))\n",
    "\n",
    "nodes.append(node(relu(), [4], 5))\n",
    "values.append(None)\n",
    "\n",
    "\n",
    "\n",
    "nodes.append(node(matmul(), [5, 6], 7))\n",
    "values.append(None)\n",
    "param_idx.append(len(values))\n",
    "values.append(np.random.rand(32, 10))\n",
    "\n",
    "\n",
    "nodes.append(node(add_bias(), [7, 8], 9))\n",
    "values.append(None)\n",
    "param_idx.append(len(values))\n",
    "values.append(np.zeros(10))\n",
    "\n",
    "nodes.append(node(softmax_cross_entropy(), [9, 10], 11))\n",
    "values.append(None)\n",
    "values.append(None)\n",
    "\n",
    "values.append(None) # for label\n",
    "\n",
    "\n",
    "for epoch in range(num_epoch):\n",
    "    loss = 0\n",
    "    for i in range(y_train.shape[0] // batchsize):\n",
    "        x = x_train[i*batchsize: i*batchsize + batchsize]\n",
    "        y = y_train[i*batchsize: i*batchsize + batchsize]\n",
    "        values[0] = x\n",
    "        values[-2] = y \n",
    "        grads, values = bp(nodes, values) \n",
    "        loss += values[-1]\n",
    "        \n",
    "        for idx in param_idx:\n",
    "            \n",
    "            values[idx] -=  alpha*grads[idx]\n",
    "            \n",
    "        #if i %500 == 0:\n",
    "    print('loss at iteration {} is {}'.format(i, loss / (i+1)))\n"
   ]
  },
  {
   "cell_type": "code",
   "execution_count": 0,
   "metadata": {
    "colab": {},
    "colab_type": "code",
    "id": "dGQbVLiTmJuw"
   },
   "outputs": [],
   "source": []
  }
 ],
 "metadata": {
  "accelerator": "GPU",
  "colab": {
   "collapsed_sections": [],
   "name": "Copy of fashion_mnist.ipynb",
   "provenance": [],
   "version": "0.3.2"
  },
  "kernelspec": {
   "display_name": "Python 3",
   "language": "python",
   "name": "python3"
  },
  "language_info": {
   "codemirror_mode": {
    "name": "ipython",
    "version": 3
   },
   "file_extension": ".py",
   "mimetype": "text/x-python",
   "name": "python",
   "nbconvert_exporter": "python",
   "pygments_lexer": "ipython3",
   "version": "3.6.5"
  }
 },
 "nbformat": 4,
 "nbformat_minor": 1
}
