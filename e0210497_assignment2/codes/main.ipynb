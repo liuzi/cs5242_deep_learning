{
 "cells": [
  {
   "cell_type": "markdown",
   "metadata": {
    "colab_type": "text",
    "id": "-kWIrTzr_aCV",
    "slideshow": {
     "slide_type": "-"
    }
   },
   "source": [
    "# Introduction\n",
    "\n",
    "\n",
    "**ASSIGNMENT DEADLINE: 11 April 2019 (Thursday) 17:00**\n",
    "\n",
    "In this assignemnt, the task is to implement some basic components for training recurrent neural network over the NLTK dataset. Firstly, you need to implement the RNNCell operations in nn/operations.py, which are used by the layers in [nn/rnn_layers.py](nn/rnn_layer.py). Secondly, you meed to implement the forward and backward function of RNN layer in [nn/rnn_layers.py](nn/rnn_layer.py). Next, you need to implement the forward and backward function of BidirectionalRNN in [nn/rnn_layers.py](nn/rnn_layer.py). Finally, you need to tune the model structure and some hyperparameters to improve the accuracy on sentiment analysis.\n",
    "\n",
    "**Attention**:\n",
    "- *Only python3 is allowed to use in this assignment.*\n",
    "- *`numpy` is utilized for computation.*\n",
    "- *You do not need a GPU to for this assignment. CPU is enough.*\n",
    "- *To run this Jupyter notebook, you need to install the depedent libraries as stated in [README.MD](README.MD).*\n",
    "- *After you implement one function, remember to restart the notebook kernel to help it recognize your fresh code.*\n",
    "- *This notebook will call the functions to be implemented by you. Therefore, you will get errors if you run this whole file before you implement all the codes.*\n",
    "- *Please do not change the parameters of the functions to be implemented, otherwise your implementation cannot pass the test cases.*\n",
    "- *You can call functions implemented outside of the marked coding block. But do not change existing functions, e.g., rename the function or delete some functions. Do not change the folder structure, e.g., rename the files or delete some files; *"
   ]
  },
  {
   "cell_type": "markdown",
   "metadata": {
    "colab_type": "text",
    "id": "pe094MBT_aCW",
    "slideshow": {
     "slide_type": "-"
    }
   },
   "source": [
    "## Foler Structure\n",
    "\n",
    "\n",
    "```bash\n",
    "codes/\n",
    "    data/\n",
    "        corpus.csv      # for nltk dataset \n",
    "        dictionary.csv  # for nltk dataset\n",
    "    models/    # a example model architecture for sentiment analysis\n",
    "        SentimentNet.py     # example model on nltk dataset\n",
    "    nn/        # components of neural networks\n",
    "        rnn_layers.py       # layer abstract for RNN; Implement code here\n",
    "        loss.py         # loss function for optimization\n",
    "        model.py        # model abstraction for defining and training models\n",
    "        operations.py   # operation abstraction for implementing operations of the layers; Implement code here\n",
    "        optimizers.py   # optimizing methods\n",
    "    utils/     # some additional tools\n",
    "        rnn_check_grads.py  # help you check whether your forward function and backward function are consistent\n",
    "        datasets.py     # load dataset, like NLTK\n",
    "        initializers.py # initializing methods to initialize parameters (like weights, bias)\n",
    "        tools.py        # other useful functions, you can use it in your codes\n",
    "    main.ipynb # interactive notebook, help you understand your task\n",
    "    README.MD  # requirements to run main.ipynb\n",
    "```"
   ]
  },
  {
   "cell_type": "markdown",
   "metadata": {
    "colab_type": "text",
    "id": "ABKEiOM3_aCY",
    "slideshow": {
     "slide_type": "-"
    }
   },
   "source": [
    "## How to Use This Notebook\n",
    "\n",
    "This iPython notebook serves to:\n",
    "\n",
    "- explain code structure, main APIs\n",
    "- explain your task\n",
    "- provide code to test your implemented functions\n",
    "\n",
    "*You can type `jupyter lab` in the terminal to start this jupyter notebook while you are in the folder containing this file. It's much more convinient than jupyter notebook.*"
   ]
  },
  {
   "cell_type": "markdown",
   "metadata": {
    "colab_type": "text",
    "id": "1XaNKG0P_aCZ"
   },
   "source": [
    "# Your Task"
   ]
  },
  {
   "cell_type": "markdown",
   "metadata": {
    "colab_type": "text",
    "id": "z0J5lA4G_aCZ"
   },
   "source": [
    "## RNN Cell Operation\n",
    "\n",
    "RNN cell is the basic building block of RNN, which implements the recurrent transformation at each time step of RNN. It has a hidden state vector of dimension `H` and accepts a input vector of dimension `D`. In this assignment, you are required to implement a simple type of RNN cell, formulated as follows:\n",
    "\n",
    "\\begin{equation*}\n",
    "y=tanh(Wx+Uh+b),\n",
    "\\end{equation*}\n",
    "\n",
    "where `x` and `h` are the input and hidden vector respectively, and `W`, `U` and `b` are kernel, recurrent_kernel and bias respectively."
   ]
  },
  {
   "cell_type": "markdown",
   "metadata": {
    "colab_type": "text",
    "id": "gtf-O1QU_aCa"
   },
   "source": [
    "## Forward\n",
    "\n",
    "In the file [nn/operations.py](nn/operations.py), implement the forward function for `RNNCellOp` operation. (`input` is a list of two numpy arrays, `[x, h]`). The following code will test your implementation using RNNCell in nn/operations.py. RNNCell is only used for testing RNNCellOp and is not used in your final model."
   ]
  },
  {
   "cell_type": "code",
   "execution_count": 1,
   "metadata": {
    "colab": {
     "base_uri": "https://localhost:8080/",
     "height": 391
    },
    "colab_type": "code",
    "executionInfo": {
     "elapsed": 3397,
     "status": "error",
     "timestamp": 1554363229132,
     "user": {
      "displayName": "liu jiang",
      "photoUrl": "",
      "userId": "17000958012865038562"
     },
     "user_tz": -480
    },
    "id": "8OymFAgo_aCb",
    "outputId": "e922b6a1-cc33-4369-d7f3-410a2ad57ebd",
    "scrolled": true
   },
   "outputs": [
    {
     "name": "stderr",
     "output_type": "stream",
     "text": [
      "/anaconda3/lib/python3.6/site-packages/h5py/__init__.py:36: FutureWarning: Conversion of the second argument of issubdtype from `float` to `np.floating` is deprecated. In future, it will be treated as `np.float64 == np.dtype(float).type`.\n",
      "  from ._conv import register_converters as _register_converters\n",
      "Using TensorFlow backend.\n"
     ]
    },
    {
     "name": "stdout",
     "output_type": "stream",
     "text": [
      "Relative error (<1e-5 will be fine): 5.022806032649947e-08\n"
     ]
    }
   ],
   "source": [
    "import numpy as np\n",
    "import keras\n",
    "from keras import layers\n",
    "# import importlib\n",
    "# rnn_layers\n",
    "# importlib.reload(rnn_layers)\n",
    "from nn.rnn_layers import RNNCell\n",
    "from utils.tools import rel_error\n",
    "\n",
    "N, D, H = 3, 10, 4\n",
    "x = np.random.uniform(size=(N, D))\n",
    "prev_h = np.random.uniform(size=(N, H))\n",
    "\n",
    "rnn_cell = RNNCell(in_features=D, units=H)\n",
    "out = rnn_cell.forward([x, prev_h])\n",
    "# compare with the keras implementation\n",
    "keras_x = layers.Input(shape=(1, D), name='x')\n",
    "keras_prev_h = layers.Input(shape=(H,), name='prev_h')\n",
    "keras_rnn = layers.RNN(layers.SimpleRNNCell(H),\n",
    "                       name='rnn')(keras_x, initial_state=keras_prev_h)\n",
    "keras_model = keras.Model(inputs=[keras_x, keras_prev_h], \n",
    "                          outputs=keras_rnn)\n",
    "keras_model.get_layer('rnn').set_weights([rnn_cell.kernel,\n",
    "                                          rnn_cell.recurrent_kernel,\n",
    "                                          rnn_cell.bias])\n",
    "keras_out = keras_model.predict_on_batch([x[:, None, :], prev_h])\n",
    "\n",
    "print('Relative error (<1e-5 will be fine): {}'.format(rel_error(keras_out, out)))"
   ]
  },
  {
   "cell_type": "markdown",
   "metadata": {
    "colab_type": "text",
    "id": "cHw2-JA6_aCg"
   },
   "source": [
    "## Backward\n",
    "\n",
    "Implement the backward function for the `RNNCellOp` operation in the file [nn/operations.py](nn/operations.py). \n",
    "\n",
    "When you are done, restart jupyter notebook and run the following to check your backward pass via numeric gradient check. "
   ]
  },
  {
   "cell_type": "code",
   "execution_count": 2,
   "metadata": {
    "colab": {},
    "colab_type": "code",
    "id": "lOx1cq-j_aCh",
    "outputId": "4f665b80-d704-4f3e-b432-26dd52547d61",
    "scrolled": false
   },
   "outputs": [
    {
     "name": "stdout",
     "output_type": "stream",
     "text": [
      "Gradient to input 0: correct\n",
      "Gradient to input 1: correct\n",
      "Gradient to -:rnn_cell/kernel: correct\n",
      "Gradient to -:rnn_cell/recurrent_kernel: correct\n",
      "Gradient to -:rnn_cell/bias: correct\n"
     ]
    }
   ],
   "source": [
    "import numpy as np\n",
    "from nn.rnn_layers import RNNCell\n",
    "from utils.rnn_check_grads import check_grads_layer\n",
    "\n",
    "N, D, H = 3, 10, 4\n",
    "x = np.random.uniform(size=(N, D))\n",
    "prev_h = np.random.uniform(size=(N, H))\n",
    "in_grads = np.random.uniform(size=(N, H))\n",
    "\n",
    "rnn_cell = RNNCell(in_features=D, units=H)\n",
    "inputs = [[x, prev_h]]\n",
    "\n",
    "check_grads_layer(rnn_cell, [x, prev_h], in_grads)"
   ]
  },
  {
   "cell_type": "markdown",
   "metadata": {
    "colab_type": "text",
    "id": "QtmmRizM_aCl"
   },
   "source": [
    "Then please improve your implementation of RNNCellOp so that it can properly handle `NaN` inputs, which is used as the padding value below. **In the forward pass, the corresponding outputs of NaN inputs should be `NaN`; in the backward pass, the gradients of those `NaN` input should be zeros.** The following code will test your implementation."
   ]
  },
  {
   "cell_type": "code",
   "execution_count": 3,
   "metadata": {
    "colab": {},
    "colab_type": "code",
    "id": "uHsMTH1X_aCm",
    "outputId": "79212b93-270c-4587-d05b-2a4c0b6bfbd0",
    "scrolled": false
   },
   "outputs": [
    {
     "name": "stdout",
     "output_type": "stream",
     "text": [
      "Gradient to input 0: correct\n",
      "Gradient to input 1: correct\n",
      "Gradient to -:rnn_cell/kernel: correct\n",
      "Gradient to -:rnn_cell/recurrent_kernel: correct\n",
      "Gradient to -:rnn_cell/bias: correct\n"
     ]
    }
   ],
   "source": [
    "import numpy as np\n",
    "from nn.rnn_layers import RNNCell\n",
    "from utils.rnn_check_grads import check_grads_layer\n",
    "\n",
    "N, D, H = 3, 10, 4\n",
    "x = np.random.uniform(size=(N, D))\n",
    "# set part of input to NaN\n",
    "# this situation will be encountered in the following work\n",
    "x[2:, :] = np.nan\n",
    "prev_h = np.random.uniform(size=(N, H))\n",
    "in_grads = np.random.uniform(size=(N, H))\n",
    "\n",
    "rnn_cell = RNNCell(in_features=D, units=H)\n",
    "check_grads_layer(rnn_cell, [x, prev_h], in_grads)"
   ]
  },
  {
   "cell_type": "markdown",
   "metadata": {
    "colab_type": "text",
    "id": "4epsZFLe_aCp"
   },
   "source": [
    "## RNN Layer\n",
    "\n",
    "A RNN layer operates over a sequence of input data by calling the RNNCellOp to transform the data at each position. It records the hiddent states. "
   ]
  },
  {
   "cell_type": "markdown",
   "metadata": {
    "colab_type": "text",
    "id": "ttKRjSkb_aCq"
   },
   "source": [
    "## Forward\n",
    "\n",
    "Please implement the function `RNN.forward(self, inputs)` in [nn/rnn_layers.py](nn/rnn_layers.py) and test your implementation using the following code. Since mini-batch SGD trains a batch of data simultaneously, we define the input data format as a numpy array of shape `(N, T, D)`, where `N` is the number of samples in a batch, `T` is the maximum length of input sequences, and `D` is the dimension of features at each time step. Since the input sequences  may have different length, `NaN` is used as the padding value, e.g. `(x1, x2, ..., xk, NaN, NaN)`. **Tips: you can utilze `np.nan_to_num(x)` to easily convert NaNs to zeros in a numpy array, and `np.isnan(x)` to get binary mask indicating which elements are NaNs.**"
   ]
  },
  {
   "cell_type": "code",
   "execution_count": 4,
   "metadata": {
    "colab": {},
    "colab_type": "code",
    "id": "hVpfbMk1_aCr",
    "outputId": "40c8a185-8517-45ce-f915-816353d33ada",
    "scrolled": true
   },
   "outputs": [
    {
     "name": "stdout",
     "output_type": "stream",
     "text": [
      "Relative error (<1e-5 will be fine): 1.5297287113010859e-07\n"
     ]
    }
   ],
   "source": [
    "import numpy as np\n",
    "import keras\n",
    "from keras import layers\n",
    "from nn.rnn_layers import RNN\n",
    "from utils.tools import rel_error\n",
    "\n",
    "import warnings\n",
    "warnings.simplefilter('ignore', RuntimeWarning)\n",
    "\n",
    "N, T, D, H = 2, 3, 4, 5\n",
    "x = np.random.uniform(size=(N, T, D))\n",
    "x[0, -1:, :] = np.nan\n",
    "x[1, -2:, :] = np.nan\n",
    "h0 = np.random.uniform(size=(H,))\n",
    "\n",
    "rnn = RNN(in_features=D, units=H, h0=h0)\n",
    "out = rnn.forward(x)\n",
    "\n",
    "keras_x = layers.Input(shape=(T, D), name='x')\n",
    "keras_h0 = layers.Input(shape=(H,), name='h0')\n",
    "keras_rnn = layers.RNN(layers.SimpleRNNCell(H), return_sequences=True,\n",
    "                       name='rnn')(keras_x, initial_state=keras_h0)\n",
    "keras_model = keras.Model(inputs=[keras_x, keras_h0],\n",
    "                          outputs=keras_rnn)\n",
    "keras_model.get_layer('rnn').set_weights([rnn.kernel,\n",
    "                                          rnn.recurrent_kernel,\n",
    "                                          rnn.bias])\n",
    "keras_out = keras_model.predict_on_batch([x, np.tile(h0, (N, 1))])\n",
    "\n",
    "print('Relative error (<1e-5 will be fine): {}'.format(rel_error(keras_out, out)))"
   ]
  },
  {
   "cell_type": "markdown",
   "metadata": {
    "colab_type": "text",
    "id": "zE5_bV81_aCu"
   },
   "source": [
    "## Backward\n",
    "\n",
    "Please implement the function `RNN.backward(self, in_grads, inputs)` in [nn/rnn_layers.py](nn/rnn_layers.py) and test your implementation using the following code. **note the gradients passed from next time steps**. Once again: the gradients to those `NaN` input units are supposed to be zeros"
   ]
  },
  {
   "cell_type": "code",
   "execution_count": 5,
   "metadata": {
    "colab": {},
    "colab_type": "code",
    "id": "57hFifzG_aCw",
    "outputId": "2eaffe75-647d-4fb2-e130-7c9231268647",
    "scrolled": true
   },
   "outputs": [
    {
     "name": "stdout",
     "output_type": "stream",
     "text": [
      "Gradient to input: correct\n",
      "Gradient to -:rnn/kernel: correct\n",
      "Gradient to -:rnn/recurrent_kernel: correct\n",
      "Gradient to -:rnn/bias: correct\n"
     ]
    }
   ],
   "source": [
    "import numpy as np\n",
    "# import importlib\n",
    "# import rnn_layers\n",
    "# importlib.reload(rnn_layers)\n",
    "from nn.rnn_layers import RNN\n",
    "from utils.rnn_check_grads import check_grads_layer\n",
    "\n",
    "N, T, D, H = 2, 3, 4, 5\n",
    "x = np.random.uniform(size=(N, T, D))\n",
    "x[0, -1:, :] = np.nan\n",
    "x[1, -2:, :] = np.nan\n",
    "in_grads = np.random.uniform(size=(N, T, H))\n",
    "\n",
    "rnn = RNN(in_features=D, units=H)\n",
    "check_grads_layer(rnn, x, in_grads)"
   ]
  },
  {
   "cell_type": "markdown",
   "metadata": {
    "colab_type": "text",
    "id": "HMMvs8IP_aC0"
   },
   "source": [
    "# Bi-directional RNN Layer\n",
    "\n",
    "Vallina RNN operates over the input sequence in one direction, so the current hiddent state cannot capture the information from the next time steps. Bi-directional RNN addresses this shortcoming by reading the input sequence in both forward and backward directions. \n",
    "\n",
    "Bi-directional RNN is typically implemented by running two independent RNN layers in opposite directions of the input data, and concatenating the outputs of the two RNNs. A useful function that can reverse a batch of sequence data is provided for your reference.\n",
    "\n",
    "```python\n",
    "def _reverse_temporal_data(self, x, mask):\n",
    "    num_nan = np.sum(~mask, axis=1)\n",
    "    reversed_x = np.array(x[:, ::-1, :])\n",
    "    for i in range(num_nan.size):\n",
    "        reversed_x[i] = np.roll(reversed_x[i], x.shape[1]-num_nan[i], axis=0)\n",
    "    return reversed_x\n",
    "```"
   ]
  },
  {
   "cell_type": "markdown",
   "metadata": {
    "colab_type": "text",
    "id": "bYDBYByW_aC1"
   },
   "source": [
    "## Forward\n",
    "\n",
    "Please implement `BidirectionalRNN.forward(self, inputs)` [nn/rnn_layers.py](nn/rnn_layers.py) and use the following code for testing. Note that `H` is the dimension of the hidden states of one internal RNN layer, so the actual dimension of the hidden state (or output) of a Bidirectional RNN is `2*H`."
   ]
  },
  {
   "cell_type": "code",
   "execution_count": 6,
   "metadata": {
    "colab": {},
    "colab_type": "code",
    "id": "o0Q6s5S2_aC2",
    "outputId": "c861f9bc-e74f-4502-94f9-fc998b0df8c1"
   },
   "outputs": [
    {
     "name": "stdout",
     "output_type": "stream",
     "text": [
      "Relative error (<1e-5 will be fine): 1.3600695986712837e-07\n"
     ]
    }
   ],
   "source": [
    "import numpy as np\n",
    "import keras\n",
    "from keras import layers\n",
    "# import importlib\n",
    "# import rnn_layers\n",
    "# importlib.reload(rnn_layers)\n",
    "from nn.rnn_layers import BidirectionalRNN\n",
    "from utils.tools import rel_error\n",
    "\n",
    "N, T, D, H = 2, 3, 4, 5\n",
    "x = np.random.uniform(size=(N, T, D))\n",
    "x[0, -1:, :] = np.nan\n",
    "x[1, -2:, :] = np.nan\n",
    "h0 = np.random.uniform(size=(H,))\n",
    "hr = np.random.uniform(size=(H,))\n",
    "\n",
    "brnn = BidirectionalRNN(in_features=D, units=H, h0=h0, hr=hr)\n",
    "out = brnn.forward(x)\n",
    "\n",
    "keras_x = layers.Input(shape=(T, D), name='x')\n",
    "keras_h0 = layers.Input(shape=(H,), name='h0')\n",
    "keras_hr = layers.Input(shape=(H,), name='hr')\n",
    "keras_x_masked = layers.Masking(mask_value=0.)(keras_x)\n",
    "keras_rnn = layers.RNN(layers.SimpleRNNCell(H), return_sequences=True)\n",
    "keras_brnn = layers.Bidirectional(keras_rnn, merge_mode='concat', name='brnn')(\n",
    "        keras_x_masked, initial_state=[keras_h0, keras_hr])\n",
    "keras_model = keras.Model(inputs=[keras_x, keras_h0, keras_hr],\n",
    "                          outputs=keras_brnn)\n",
    "keras_model.get_layer('brnn').set_weights([brnn.forward_rnn.kernel,\n",
    "                                           brnn.forward_rnn.recurrent_kernel, \n",
    "                                           brnn.forward_rnn.bias,\n",
    "                                           brnn.backward_rnn.kernel, \n",
    "                                           brnn.backward_rnn.recurrent_kernel,\n",
    "                                           brnn.backward_rnn.bias])\n",
    "keras_out = keras_model.predict_on_batch([np.nan_to_num(x), np.tile(h0, (N, 1)), np.tile(hr, (N, 1))])\n",
    "nan_indices = np.where(np.any(np.isnan(x), axis=2))\n",
    "keras_out[nan_indices[0], nan_indices[1], :] = np.nan\n",
    "\n",
    "print('Relative error (<1e-5 will be fine): {}'.format(rel_error(keras_out, out)))"
   ]
  },
  {
   "cell_type": "markdown",
   "metadata": {
    "colab_type": "text",
    "id": "_vzN3axp_aC5"
   },
   "source": [
    "## Backward\n",
    "\n",
    "Please refer to the provided forward function and implement the function `BidirectionalRNN.backward(self, inputs)` in [nn/rnn_layers.py](nn/rnn_layers.py). Test your implementation using the following code."
   ]
  },
  {
   "cell_type": "code",
   "execution_count": 7,
   "metadata": {
    "colab": {},
    "colab_type": "code",
    "id": "92ZpzaFN_aC6",
    "outputId": "aa527cb6-284d-4365-a010-48b3c186239a",
    "scrolled": true
   },
   "outputs": [
    {
     "name": "stdout",
     "output_type": "stream",
     "text": [
      "Gradient to input: correct\n",
      "Gradient to -:brnn/forward_kernel: correct\n",
      "Gradient to -:brnn/forward_recurrent_kernel: correct\n",
      "Gradient to -:brnn/forward_bias: correct\n",
      "Gradient to -:brnn/backward_kernel: correct\n",
      "Gradient to -:brnn/backward_recurrent_kernel: correct\n",
      "Gradient to -:brnn/backward_bias: correct\n"
     ]
    }
   ],
   "source": [
    "import numpy as np\n",
    "# import importlib\n",
    "# import rnn_layers\n",
    "# importlib.reload(rnn_layers)\n",
    "from nn.rnn_layers import BidirectionalRNN\n",
    "from utils.rnn_check_grads import check_grads_layer\n",
    "\n",
    "N, T, D, H = 2, 3, 4, 5\n",
    "x = np.random.uniform(size=(N, T, D))\n",
    "x[0, -1:, :] = np.nan\n",
    "x[1, -2:, :] = np.nan\n",
    "in_grads = np.random.uniform(size=(N, T, H*2))\n",
    "\n",
    "brnn = BidirectionalRNN(in_features=D, units=H)\n",
    "check_grads_layer(brnn, x, in_grads)"
   ]
  },
  {
   "cell_type": "markdown",
   "metadata": {
    "colab_type": "text",
    "id": "I1Tq6BKi_aC9"
   },
   "source": [
    "# Sentiment Analysis using RNNs\n",
    "\n",
    "In this section, you are required to test your implementations above by running an ensemble NN on a sentiment analysis dataset. The dataset, `data/corpus.csv`, consists of 800 real movie comments and the corresponding labels that indicate whether the comments are positive or negative. For example:\n",
    "```\n",
    "POSTIVE: I absolutely LOVE Harry Potter, as you can tell already.\n",
    "NEGATIVE: My dad's being stupid about brokeback mountain...\n",
    "```\n",
    "\n",
    "We provide a basic RNN architecture, which can be found in `models/SentimentNet.py`. The architecture is:\n",
    "```python\n",
    "FCLayer(vocab_size, 200, name='embedding')\n",
    "BidirectionalRNN(RNNCell(in_features=200, units=50))\n",
    "FCLayer(100, 32, name='fclayer1')\n",
    "TemporalPooling()\n",
    "FCLayer(32, 2, name='fclayer2')\n",
    "```\n",
    "Every training example has a sequences of one-hot vectors, each of which represents a word. The 1st FC layer works as an [embedding layer](https://www.tensorflow.org/versions/master/programmers_guide/embedding) to learn and retrieve the word embedding vectors. After a Bi-directional RNN layer and another FC layer, a TemporalPooling layer (see `layers.py`) is used to average a sequence of vectors into one vector, which ignores the `NaN`s. The rest of the network is similar to that for binary classification of images."
   ]
  },
  {
   "cell_type": "code",
   "execution_count": 8,
   "metadata": {
    "colab": {},
    "colab_type": "code",
    "id": "BV0bYx16_aC-",
    "outputId": "4588963d-043f-4573-fad8-6a9e27aa65d7",
    "scrolled": true
   },
   "outputs": [
    {
     "name": "stdout",
     "output_type": "stream",
     "text": [
      "[nltk_data] Downloading package punkt to /Users/lynnjiang/nltk_data...\n",
      "[nltk_data]   Package punkt is already up-to-date!\n",
      "Number of training samples: 600\n",
      "Number of validation samples: 100\n",
      "Number of testing samples: 100\n",
      "Epoch 0: \n",
      "Train iter 5/30:\tacc 0.50, loss 0.69, reg loss 0.00, speed 53.28 samples/sec\n",
      "Train iter 10/30:\tacc 0.55, loss 0.69, reg loss 0.00, speed 76.46 samples/sec\n",
      "Train iter 15/30:\tacc 0.55, loss 0.68, reg loss 0.00, speed 78.73 samples/sec\n",
      "Train iter 20/30:\tacc 0.70, loss 0.58, reg loss 0.00, speed 60.99 samples/sec\n",
      "Test acc 0.84, loss 0.49\n",
      "Train iter 25/30:\tacc 0.95, loss 0.43, reg loss 0.01, speed 33.01 samples/sec\n",
      "Epoch 1: \n",
      "Train iter 5/30:\tacc 0.85, loss 0.30, reg loss 0.02, speed 58.53 samples/sec\n",
      "Train iter 10/30:\tacc 0.95, loss 0.13, reg loss 0.02, speed 76.21 samples/sec\n",
      "Train iter 15/30:\tacc 0.95, loss 0.21, reg loss 0.02, speed 73.57 samples/sec\n",
      "Train iter 20/30:\tacc 1.00, loss 0.18, reg loss 0.02, speed 72.11 samples/sec\n",
      "Test acc 0.92, loss 0.23\n",
      "Train iter 25/30:\tacc 1.00, loss 0.14, reg loss 0.03, speed 42.45 samples/sec\n",
      "Epoch 2: \n",
      "Train iter 5/30:\tacc 0.90, loss 0.36, reg loss 0.03, speed 56.75 samples/sec\n",
      "Train iter 10/30:\tacc 1.00, loss 0.03, reg loss 0.04, speed 66.62 samples/sec\n",
      "Train iter 15/30:\tacc 1.00, loss 0.02, reg loss 0.04, speed 71.00 samples/sec\n",
      "Train iter 20/30:\tacc 0.90, loss 0.08, reg loss 0.04, speed 70.22 samples/sec\n",
      "Test acc 0.93, loss 0.18\n",
      "Train iter 25/30:\tacc 1.00, loss 0.01, reg loss 0.04, speed 36.87 samples/sec\n",
      "Epoch 3: \n",
      "Train iter 5/30:\tacc 1.00, loss 0.00, reg loss 0.04, speed 52.98 samples/sec\n",
      "Train iter 10/30:\tacc 0.95, loss 0.10, reg loss 0.03, speed 68.13 samples/sec\n",
      "Train iter 15/30:\tacc 1.00, loss 0.00, reg loss 0.03, speed 61.91 samples/sec\n",
      "Train iter 20/30:\tacc 1.00, loss 0.01, reg loss 0.03, speed 62.69 samples/sec\n",
      "Test acc 0.95, loss 0.12\n",
      "Train iter 25/30:\tacc 1.00, loss 0.04, reg loss 0.03, speed 38.78 samples/sec\n",
      "Epoch 4: \n",
      "Train iter 5/30:\tacc 1.00, loss 0.07, reg loss 0.03, speed 53.16 samples/sec\n",
      "Train iter 10/30:\tacc 1.00, loss 0.05, reg loss 0.03, speed 67.39 samples/sec\n",
      "Train iter 15/30:\tacc 1.00, loss 0.06, reg loss 0.03, speed 73.18 samples/sec\n",
      "Train iter 20/30:\tacc 1.00, loss 0.04, reg loss 0.04, speed 64.32 samples/sec\n",
      "Test acc 0.95, loss 0.14\n",
      "Train iter 25/30:\tacc 0.95, loss 0.06, reg loss 0.04, speed 40.75 samples/sec\n"
     ]
    }
   ],
   "source": [
    "from utils import datasets\n",
    "from models.SentimentNet import SentimentNet\n",
    "from nn.loss import SoftmaxCrossEntropy, L2\n",
    "from nn.optimizers import Adam\n",
    "import numpy as np\n",
    "np.random.seed(5242)\n",
    "\n",
    "dataset = datasets.Sentiment()\n",
    "model = SentimentNet(dataset.dictionary)\n",
    "loss = SoftmaxCrossEntropy(num_class=2)\n",
    "\n",
    "adam = Adam(lr=0.001, decay=0,\n",
    "            sheduler_func=lambda lr, it: lr*0.5 if it%1000==0 else lr)\n",
    "model.compile(optimizer=adam, loss=loss, regularization=L2(w=0.001))\n",
    "train_results, val_results, test_results = model.train(\n",
    "        dataset, \n",
    "        train_batch=20, val_batch=100, test_batch=100, \n",
    "        epochs=5, \n",
    "        val_intervals=-1, test_intervals=25, print_intervals=5)"
   ]
  },
  {
   "cell_type": "code",
   "execution_count": 9,
   "metadata": {
    "colab": {},
    "colab_type": "code",
    "id": "HJdG8A51_aDB",
    "outputId": "fe59a6e3-28b2-4ce6-8228-683cb280ff09"
   },
   "outputs": [
    {
     "data": {
      "text/plain": [
       "[<matplotlib.lines.Line2D at 0x1a3f14ab38>]"
      ]
     },
     "execution_count": 9,
     "metadata": {},
     "output_type": "execute_result"
    },
    {
     "data": {
      "image/png": "[encoded data removed]",
      "text/plain": [
       "<Figure size 1296x576 with 4 Axes>"
      ]
     },
     "metadata": {},
     "output_type": "display_data"
    }
   ],
   "source": [
    "%matplotlib inline\n",
    "import matplotlib.pyplot as plt\n",
    "plt.figure(figsize=(18, 8))\n",
    "plt.subplot(2, 2, 1)\n",
    "plt.title('Training loss')\n",
    "plt.plot(train_results[:,0], train_results[:,1])\n",
    "plt.subplot(2, 2, 3)\n",
    "plt.title('Training accuracy')\n",
    "plt.plot(train_results[:,0], train_results[:,2])\n",
    "plt.subplot(2, 2, 2)\n",
    "plt.title('Testing loss')\n",
    "plt.plot(test_results[:,0], test_results[:, 1])\n",
    "plt.subplot(2, 2, 4)\n",
    "plt.title('Testing accuracy')\n",
    "plt.plot(test_results[:, 0], test_results[:,2])\n",
    "plt.plot(test_results[:, 0], test_results[:,2])"
   ]
  },
  {
   "cell_type": "markdown",
   "metadata": {
    "colab_type": "text",
    "id": "bxWLFz0U_aDF"
   },
   "source": [
    "# Train your best SentimenNet!\n",
    "Tweak the hyperparameters and structure of the SentimentNet. The network is small, hence the training should finish quickly using your CPU (less than 1 hour). "
   ]
  },
  {
   "cell_type": "code",
   "execution_count": 7,
   "metadata": {
    "colab": {},
    "colab_type": "code",
    "id": "4iSPfVrp_aDH"
   },
   "outputs": [
    {
     "name": "stdout",
     "output_type": "stream",
     "text": [
      "[nltk_data] Downloading package punkt to /Users/lynnjiang/nltk_data...\n",
      "[nltk_data]   Package punkt is already up-to-date!\n",
      "Number of training samples: 600\n",
      "Number of validation samples: 100\n",
      "Number of testing samples: 100\n"
     ]
    }
   ],
   "source": [
    "# define your new model and all training codes here, like loading data, defining optimizer and so on\n",
    "from utils import datasets\n",
    "from models.SentimentNet import SentimentNet\n",
    "from nn.loss import SoftmaxCrossEntropy, L2\n",
    "from nn.optimizers import Adam\n",
    "import numpy as np\n",
    "\n",
    "dataset = datasets.Sentiment()\n"
   ]
  },
  {
   "cell_type": "code",
   "execution_count": 31,
   "metadata": {},
   "outputs": [
    {
     "name": "stdout",
     "output_type": "stream",
     "text": [
      "Epoch 0: \n",
      "Train iter 5/30:\tacc 0.60, loss 0.69, reg loss 0.00, speed 45.02 samples/sec\n",
      "Train iter 10/30:\tacc 0.55, loss 0.69, reg loss 0.00, speed 63.46 samples/sec\n",
      "Train iter 15/30:\tacc 0.70, loss 0.68, reg loss 0.00, speed 69.43 samples/sec\n",
      "Train iter 20/30:\tacc 0.60, loss 0.68, reg loss 0.00, speed 72.78 samples/sec\n",
      "Test acc 0.60, loss 0.64\n",
      "Train iter 25/30:\tacc 0.50, loss 0.69, reg loss 0.00, speed 38.42 samples/sec\n",
      "Epoch 1: \n",
      "Train iter 5/30:\tacc 0.75, loss 0.46, reg loss 0.01, speed 56.69 samples/sec\n",
      "Train iter 10/30:\tacc 0.90, loss 0.19, reg loss 0.01, speed 73.49 samples/sec\n",
      "Train iter 15/30:\tacc 0.80, loss 0.62, reg loss 0.01, speed 73.83 samples/sec\n",
      "Train iter 20/30:\tacc 1.00, loss 0.06, reg loss 0.01, speed 73.70 samples/sec\n",
      "Test acc 0.92, loss 0.24\n",
      "Train iter 25/30:\tacc 1.00, loss 0.12, reg loss 0.02, speed 38.81 samples/sec\n",
      "Epoch 2: \n",
      "Train iter 5/30:\tacc 0.95, loss 0.17, reg loss 0.02, speed 65.06 samples/sec\n",
      "Train iter 10/30:\tacc 1.00, loss 0.13, reg loss 0.02, speed 77.72 samples/sec\n",
      "Train iter 15/30:\tacc 1.00, loss 0.10, reg loss 0.03, speed 74.59 samples/sec\n",
      "Train iter 20/30:\tacc 1.00, loss 0.01, reg loss 0.03, speed 75.37 samples/sec\n",
      "Test acc 0.94, loss 0.13\n",
      "Train iter 25/30:\tacc 0.90, loss 0.46, reg loss 0.03, speed 44.31 samples/sec\n",
      "Epoch 3: \n",
      "Train iter 5/30:\tacc 0.95, loss 0.07, reg loss 0.03, speed 64.14 samples/sec\n",
      "Train iter 10/30:\tacc 1.00, loss 0.04, reg loss 0.03, speed 70.57 samples/sec\n",
      "Train iter 15/30:\tacc 0.90, loss 0.12, reg loss 0.03, speed 71.68 samples/sec\n",
      "Train iter 20/30:\tacc 0.95, loss 0.10, reg loss 0.03, speed 71.63 samples/sec\n",
      "Test acc 0.94, loss 0.14\n",
      "Train iter 25/30:\tacc 1.00, loss 0.04, reg loss 0.03, speed 44.29 samples/sec\n",
      "Epoch 4: \n",
      "Train iter 5/30:\tacc 0.95, loss 0.15, reg loss 0.03, speed 65.83 samples/sec\n",
      "Train iter 10/30:\tacc 0.95, loss 0.10, reg loss 0.03, speed 78.47 samples/sec\n",
      "Train iter 15/30:\tacc 1.00, loss 0.02, reg loss 0.03, speed 76.57 samples/sec\n",
      "Train iter 20/30:\tacc 1.00, loss 0.02, reg loss 0.03, speed 78.47 samples/sec\n",
      "Test acc 0.96, loss 0.10\n",
      "Train iter 25/30:\tacc 1.00, loss 0.05, reg loss 0.03, speed 43.64 samples/sec\n",
      "Epoch 5: \n",
      "Train iter 5/30:\tacc 0.95, loss 0.20, reg loss 0.03, speed 56.75 samples/sec\n",
      "Train iter 10/30:\tacc 1.00, loss 0.01, reg loss 0.03, speed 74.43 samples/sec\n",
      "Train iter 15/30:\tacc 1.00, loss 0.02, reg loss 0.03, speed 73.36 samples/sec\n",
      "Train iter 20/30:\tacc 1.00, loss 0.01, reg loss 0.03, speed 74.33 samples/sec\n",
      "Test acc 0.96, loss 0.06\n",
      "Train iter 25/30:\tacc 1.00, loss 0.01, reg loss 0.03, speed 39.04 samples/sec\n",
      "Epoch 6: \n",
      "Train iter 5/30:\tacc 1.00, loss 0.00, reg loss 0.03, speed 57.59 samples/sec\n",
      "Train iter 10/30:\tacc 1.00, loss 0.01, reg loss 0.03, speed 68.04 samples/sec\n",
      "Train iter 15/30:\tacc 1.00, loss 0.00, reg loss 0.03, speed 69.71 samples/sec\n",
      "Train iter 20/30:\tacc 1.00, loss 0.00, reg loss 0.03, speed 67.70 samples/sec\n",
      "Test acc 0.95, loss 0.12\n",
      "Train iter 25/30:\tacc 1.00, loss 0.00, reg loss 0.03, speed 43.22 samples/sec\n",
      "Epoch 7: \n",
      "Train iter 5/30:\tacc 1.00, loss 0.00, reg loss 0.03, speed 59.60 samples/sec\n",
      "Train iter 10/30:\tacc 1.00, loss 0.04, reg loss 0.03, speed 63.56 samples/sec\n",
      "Train iter 15/30:\tacc 1.00, loss 0.00, reg loss 0.02, speed 67.13 samples/sec\n",
      "Train iter 20/30:\tacc 1.00, loss 0.01, reg loss 0.02, speed 69.27 samples/sec\n",
      "Test acc 0.95, loss 0.10\n",
      "Train iter 25/30:\tacc 1.00, loss 0.00, reg loss 0.02, speed 40.46 samples/sec\n",
      "Epoch 8: \n",
      "Train iter 5/30:\tacc 1.00, loss 0.00, reg loss 0.02, speed 55.16 samples/sec\n",
      "Train iter 10/30:\tacc 1.00, loss 0.00, reg loss 0.02, speed 67.50 samples/sec\n",
      "Train iter 15/30:\tacc 1.00, loss 0.00, reg loss 0.02, speed 60.06 samples/sec\n",
      "Train iter 20/30:\tacc 0.95, loss 0.09, reg loss 0.02, speed 69.21 samples/sec\n",
      "Test acc 0.97, loss 0.08\n",
      "Train iter 25/30:\tacc 1.00, loss 0.00, reg loss 0.02, speed 39.65 samples/sec\n",
      "Epoch 9: \n",
      "Train iter 5/30:\tacc 1.00, loss 0.00, reg loss 0.02, speed 51.23 samples/sec\n",
      "Train iter 10/30:\tacc 1.00, loss 0.00, reg loss 0.02, speed 61.74 samples/sec\n",
      "Train iter 15/30:\tacc 1.00, loss 0.00, reg loss 0.02, speed 69.80 samples/sec\n",
      "Train iter 20/30:\tacc 1.00, loss 0.00, reg loss 0.02, speed 70.55 samples/sec\n",
      "Test acc 0.96, loss 0.07\n",
      "Train iter 25/30:\tacc 1.00, loss 0.00, reg loss 0.02, speed 38.94 samples/sec\n",
      "Epoch 10: \n",
      "Train iter 5/30:\tacc 1.00, loss 0.01, reg loss 0.02, speed 56.75 samples/sec\n",
      "Train iter 10/30:\tacc 1.00, loss 0.00, reg loss 0.02, speed 62.10 samples/sec\n",
      "Train iter 15/30:\tacc 1.00, loss 0.00, reg loss 0.02, speed 68.33 samples/sec\n",
      "Train iter 20/30:\tacc 1.00, loss 0.00, reg loss 0.02, speed 67.33 samples/sec\n",
      "Test acc 0.96, loss 0.08\n",
      "Train iter 25/30:\tacc 1.00, loss 0.00, reg loss 0.02, speed 36.62 samples/sec\n",
      "Epoch 11: \n",
      "Train iter 5/30:\tacc 1.00, loss 0.00, reg loss 0.02, speed 52.35 samples/sec\n",
      "Train iter 10/30:\tacc 1.00, loss 0.00, reg loss 0.02, speed 66.18 samples/sec\n",
      "Train iter 15/30:\tacc 1.00, loss 0.02, reg loss 0.02, speed 66.88 samples/sec\n",
      "Train iter 20/30:\tacc 1.00, loss 0.00, reg loss 0.02, speed 68.25 samples/sec\n",
      "Test acc 0.96, loss 0.09\n",
      "Train iter 25/30:\tacc 1.00, loss 0.00, reg loss 0.02, speed 38.88 samples/sec\n",
      "Epoch 12: \n",
      "Train iter 5/30:\tacc 1.00, loss 0.01, reg loss 0.02, speed 54.72 samples/sec\n",
      "Train iter 10/30:\tacc 1.00, loss 0.00, reg loss 0.02, speed 65.00 samples/sec\n",
      "Train iter 15/30:\tacc 1.00, loss 0.00, reg loss 0.02, speed 52.08 samples/sec\n",
      "Train iter 20/30:\tacc 1.00, loss 0.00, reg loss 0.02, speed 61.62 samples/sec\n",
      "Test acc 0.96, loss 0.12\n",
      "Train iter 25/30:\tacc 1.00, loss 0.00, reg loss 0.02, speed 38.87 samples/sec\n",
      "Epoch 13: \n",
      "Train iter 5/30:\tacc 1.00, loss 0.00, reg loss 0.02, speed 58.93 samples/sec\n",
      "Train iter 10/30:\tacc 1.00, loss 0.00, reg loss 0.02, speed 70.25 samples/sec\n",
      "Train iter 15/30:\tacc 1.00, loss 0.00, reg loss 0.02, speed 70.14 samples/sec\n",
      "Train iter 20/30:\tacc 1.00, loss 0.00, reg loss 0.02, speed 62.98 samples/sec\n",
      "Test acc 0.96, loss 0.17\n",
      "Train iter 25/30:\tacc 1.00, loss 0.00, reg loss 0.02, speed 38.31 samples/sec\n",
      "Epoch 14: \n",
      "Train iter 5/30:\tacc 1.00, loss 0.00, reg loss 0.02, speed 52.10 samples/sec\n",
      "Train iter 10/30:\tacc 1.00, loss 0.00, reg loss 0.02, speed 67.08 samples/sec\n",
      "Train iter 15/30:\tacc 1.00, loss 0.00, reg loss 0.02, speed 63.90 samples/sec\n",
      "Train iter 20/30:\tacc 1.00, loss 0.00, reg loss 0.02, speed 61.86 samples/sec\n",
      "Test acc 0.96, loss 0.15\n",
      "Train iter 25/30:\tacc 1.00, loss 0.00, reg loss 0.02, speed 37.02 samples/sec\n",
      "Epoch 15: \n",
      "Train iter 5/30:\tacc 1.00, loss 0.00, reg loss 0.02, speed 45.73 samples/sec\n",
      "Train iter 10/30:\tacc 1.00, loss 0.00, reg loss 0.02, speed 38.75 samples/sec\n",
      "Train iter 15/30:\tacc 1.00, loss 0.00, reg loss 0.02, speed 63.73 samples/sec\n",
      "Train iter 20/30:\tacc 1.00, loss 0.00, reg loss 0.02, speed 66.56 samples/sec\n",
      "Test acc 0.97, loss 0.16\n",
      "Train iter 25/30:\tacc 1.00, loss 0.00, reg loss 0.02, speed 40.26 samples/sec\n",
      "Epoch 16: \n",
      "Train iter 5/30:\tacc 1.00, loss 0.00, reg loss 0.02, speed 55.17 samples/sec\n",
      "Train iter 10/30:\tacc 1.00, loss 0.00, reg loss 0.02, speed 60.59 samples/sec\n",
      "Train iter 15/30:\tacc 1.00, loss 0.00, reg loss 0.02, speed 61.26 samples/sec\n",
      "Train iter 20/30:\tacc 1.00, loss 0.00, reg loss 0.02, speed 61.14 samples/sec\n",
      "Test acc 0.96, loss 0.20\n",
      "Train iter 25/30:\tacc 1.00, loss 0.00, reg loss 0.02, speed 39.33 samples/sec\n",
      "Epoch 17: \n",
      "Train iter 5/30:\tacc 1.00, loss 0.00, reg loss 0.02, speed 59.68 samples/sec\n",
      "Train iter 10/30:\tacc 1.00, loss 0.00, reg loss 0.02, speed 71.16 samples/sec\n",
      "Train iter 15/30:\tacc 0.95, loss 0.16, reg loss 0.02, speed 68.66 samples/sec\n",
      "Train iter 20/30:\tacc 1.00, loss 0.00, reg loss 0.02, speed 71.10 samples/sec\n",
      "Test acc 0.96, loss 0.24\n",
      "Train iter 25/30:\tacc 1.00, loss 0.00, reg loss 0.02, speed 42.58 samples/sec\n",
      "Epoch 18: \n",
      "Train iter 5/30:\tacc 0.95, loss 0.26, reg loss 0.02, speed 54.68 samples/sec\n",
      "Train iter 10/30:\tacc 1.00, loss 0.01, reg loss 0.02, speed 62.98 samples/sec\n",
      "Train iter 15/30:\tacc 0.95, loss 0.06, reg loss 0.02, speed 65.92 samples/sec\n",
      "Train iter 20/30:\tacc 1.00, loss 0.04, reg loss 0.02, speed 66.01 samples/sec\n",
      "Test acc 0.89, loss 0.25\n",
      "Train iter 25/30:\tacc 0.90, loss 0.33, reg loss 0.02, speed 39.68 samples/sec\n",
      "Epoch 19: \n",
      "Train iter 5/30:\tacc 0.95, loss 0.10, reg loss 0.02, speed 55.86 samples/sec\n",
      "Train iter 10/30:\tacc 0.95, loss 0.05, reg loss 0.02, speed 60.47 samples/sec\n"
     ]
    },
    {
     "name": "stdout",
     "output_type": "stream",
     "text": [
      "Train iter 15/30:\tacc 0.95, loss 0.19, reg loss 0.02, speed 58.43 samples/sec\n",
      "Train iter 20/30:\tacc 1.00, loss 0.02, reg loss 0.02, speed 57.91 samples/sec\n",
      "Test acc 0.96, loss 0.11\n",
      "Train iter 25/30:\tacc 1.00, loss 0.02, reg loss 0.02, speed 39.62 samples/sec\n",
      "Epoch 20: \n",
      "Train iter 5/30:\tacc 1.00, loss 0.03, reg loss 0.02, speed 51.23 samples/sec\n",
      "Train iter 10/30:\tacc 1.00, loss 0.01, reg loss 0.02, speed 56.79 samples/sec\n",
      "Train iter 15/30:\tacc 0.95, loss 0.05, reg loss 0.02, speed 48.20 samples/sec\n",
      "Train iter 20/30:\tacc 1.00, loss 0.01, reg loss 0.02, speed 59.18 samples/sec\n",
      "Test acc 0.97, loss 0.09\n",
      "Train iter 25/30:\tacc 1.00, loss 0.02, reg loss 0.02, speed 36.75 samples/sec\n",
      "Epoch 21: \n",
      "Train iter 5/30:\tacc 1.00, loss 0.03, reg loss 0.02, speed 52.94 samples/sec\n",
      "Train iter 10/30:\tacc 1.00, loss 0.02, reg loss 0.02, speed 65.01 samples/sec\n",
      "Train iter 15/30:\tacc 1.00, loss 0.03, reg loss 0.02, speed 62.08 samples/sec\n",
      "Train iter 20/30:\tacc 1.00, loss 0.02, reg loss 0.02, speed 60.00 samples/sec\n",
      "Test acc 0.99, loss 0.09\n",
      "Train iter 25/30:\tacc 1.00, loss 0.02, reg loss 0.02, speed 35.41 samples/sec\n"
     ]
    }
   ],
   "source": [
    "## Train model\n",
    "np.random.seed(5242)\n",
    "model = SentimentNet(dataset.dictionary)\n",
    "loss = SoftmaxCrossEntropy(num_class=2)\n",
    "\n",
    "adam = Adam(lr=0.0007, decay=0,\n",
    "            sheduler_func=lambda lr, it: lr*0.5 if it%1000==0 else lr)\n",
    "model.compile(optimizer=adam, loss=loss, regularization=L2(w=0.001))\n",
    "train_results, val_results, test_results = model.train(\n",
    "        dataset, \n",
    "        train_batch=20, val_batch=100, test_batch=100, \n",
    "        epochs=22, \n",
    "        val_intervals=-1, test_intervals=25, print_intervals=5)"
   ]
  },
  {
   "cell_type": "code",
   "execution_count": 27,
   "metadata": {
    "scrolled": true
   },
   "outputs": [
    {
     "data": {
      "text/plain": [
       "[<matplotlib.lines.Line2D at 0x1a192407f0>]"
      ]
     },
     "execution_count": 27,
     "metadata": {},
     "output_type": "execute_result"
    },
    {
     "data": {
      "image/png": "[encoded data removed]",
      "text/plain": [
       "<Figure size 1296x576 with 4 Axes>"
      ]
     },
     "metadata": {},
     "output_type": "display_data"
    }
   ],
   "source": [
    "%matplotlib inline\n",
    "import matplotlib.pyplot as plt\n",
    "plt.figure(figsize=(18, 8))\n",
    "plt.subplot(2, 2, 1)\n",
    "plt.title('Training loss')\n",
    "plt.plot(train_results[:,0], train_results[:,1])\n",
    "plt.subplot(2, 2, 3)\n",
    "plt.title('Training accuracy')\n",
    "plt.plot(train_results[:,0], train_results[:,2])\n",
    "plt.subplot(2, 2, 2)\n",
    "plt.title('Testing loss')\n",
    "plt.plot(test_results[:,0], test_results[:, 1])\n",
    "plt.subplot(2, 2, 4)\n",
    "plt.title('Testing accuracy')\n",
    "plt.plot(test_results[:, 0], test_results[:,2])\n",
    "plt.plot(test_results[:, 0], test_results[:,2])"
   ]
  },
  {
   "cell_type": "markdown",
   "metadata": {
    "colab_type": "text",
    "id": "ZSuGudz-_aDK"
   },
   "source": [
    "## Your Description and Analysis\n",
    "Please write down what you have tuned for your best SentimentNet. And please write down your analysis about their impacts on performance.\n",
    "\n",
    "-----------------------------------\n",
    "The test accuracy is unstable for the same model. Hence I fix the training data, validation data and test data. Besides, I also reset seed every time I run the new model. And the pamameters for the model with the best performance (test accuracy = 99%) is: {Adam(lr=0.0007, decay=0), L2(w=0.001), epochs=22}.\n",
    "\n",
    "|Parameters    | Test Accuracy(%) | Problem|\n",
    "|----------|--- |--- |\n",
    "| Adam(lr=0.002, decay=0), L2(w=0.001), epochs=5 | 96 |None|\n",
    "| Adam(lr=0.001, decay=0), L2(w=0.001), epochs=6 | 97 |None|\n",
    "| Adam(lr=0.001, decay=0), L2(w=0.001), epochs=7 | 98 |None|\n",
    "| Adam(lr=0.0009, decay=0), L2(w=0.001), epochs=30 | 91 |max=96|\n",
    "| Adam(lr=0.0008, decay=0), L2(w=0.001), epochs=8 | 93 |max=97|\n",
    "| Adam(lr=0.0008, decay=0), L2(w=0.001), epochs=6 | 92 |max=97|\n",
    "| Adam(lr=0.0008, decay=0), L2(w=0.001), epochs=5 | 97 |None|\n",
    "| Adam(lr=0.0008, decay=0), L2(w=0.001), epochs=30 | 91 |None|\n",
    "| Adam(lr=0.0007, decay=0), L2(w=0.001), epochs=30 | 95 |None|\n",
    "| Adam(lr=0.0007, decay=0), L2(w=0.001), epochs=22 | 99 |None|\n",
    "| Adam(lr=0.0007, decay=0), L2(w=0.001), epochs=10 | 96 |None|\n",
    "| Adam(lr=0.0006, decay=0), L2(w=0.001), epochs=10 | 96 |msx=97|\n",
    "\n",
    "---\n",
    "\n",
    "<img src=\"output/acc_99.png\">\n",
    "\n",
    "-----------------------------------\n"
   ]
  },
  {
   "cell_type": "markdown",
   "metadata": {
    "colab_type": "text",
    "id": "XEKeLceO_aDK"
   },
   "source": [
    "# Marking Scheme\n",
    "\n",
    "Marking scheme is shown below:\n",
    "- 5 marks for `RNNCellOp` forward and backward function\n",
    "- 5 marks for `RNN` forward and backward function\n",
    "- 5 marks for `BidirectionalRNN` backward function\n",
    "- 4 marks for tuning your best SentimentNet\n",
    "- 1 marks for your submission format\n",
    "\n",
    "For submission format, please follow below submission instructions.\n",
    "\n",
    "**DO NOT** use external libraries like Tensorflow, keras and Pytorch in your implementation. **DO NOT** copy the code from the internet, e.g. github, or your classmates."
   ]
  },
  {
   "cell_type": "markdown",
   "metadata": {
    "colab_type": "text",
    "id": "BYvYmeSY_aDL"
   },
   "source": [
    "# Final submission instructions\n",
    "Please submit the following:\n",
    "\n",
    "1) Your codes in a folder named `codes`, and keep the structure of all files in this folder the same as what we have provided. \n",
    "\n",
    "\n",
    "Do not include the `data` folder as it takes up substantial memory. Please zip up the following folders under a folder named with your NUSNET ID: eg. `e0123456g.zip` and submit the zipped folder to LumiNUS/Files/Assignment 2 Submission. If unzip the file, the structure should be like this:\n",
    "\n",
    "```bash\n",
    "e0123456g/\n",
    "    codes/\n",
    "        models/\n",
    "            ...\n",
    "        nn/\n",
    "            ...\n",
    "        utils/\n",
    "            ...\n",
    "        main.ipynb\n",
    "        README.MD\n",
    "```"
   ]
  },
  {
   "cell_type": "code",
   "execution_count": 0,
   "metadata": {
    "colab": {},
    "colab_type": "code",
    "id": "BpmF-gx1_aDM"
   },
   "outputs": [],
   "source": []
  }
 ],
 "metadata": {
  "colab": {
   "name": "main.ipynb",
   "provenance": [],
   "toc_visible": true,
   "version": "0.3.2"
  },
  "kernelspec": {
   "display_name": "Python 3",
   "language": "python",
   "name": "python3"
  },
  "language_info": {
   "codemirror_mode": {
    "name": "ipython",
    "version": 3
   },
   "file_extension": ".py",
   "mimetype": "text/x-python",
   "name": "python",
   "nbconvert_exporter": "python",
   "pygments_lexer": "ipython3",
   "version": "3.6.5"
  },
  "toc": {
   "base_numbering": 1,
   "nav_menu": {},
   "number_sections": true,
   "sideBar": true,
   "skip_h1_title": false,
   "title_cell": "Table of Contents",
   "title_sidebar": "Contents",
   "toc_cell": false,
   "toc_position": {},
   "toc_section_display": true,
   "toc_window_display": true
  }
 },
 "nbformat": 4,
 "nbformat_minor": 1
}
